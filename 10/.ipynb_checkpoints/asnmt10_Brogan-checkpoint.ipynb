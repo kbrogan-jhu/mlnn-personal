{
 "cells": [
  {
   "cell_type": "markdown",
   "metadata": {},
   "source": [
    "## Neural Networks image recognition - MultiLayer Perceptron\n",
    "Use both MLNN for the following problem.\n",
    "\n",
    "1. Add random noise (see below on `size parameter` on [`np.random.normal`](https://numpy.org/doc/stable/reference/random/generated/numpy.random.normal.html)) to the images in training and testing. **Make sure each image gets a different noise feature added to it. Inspect by printing out several images. Note - the `size` parameter should match the data. **\n",
    "2. Compare the `accuracy` of train and val after N epochs for MLNN with and without noise. \n",
    "3. Vary the amount of noise by changing the `scale` parameter in `np.random.normal` by a factor. Use `.1, .5, 1.0, 2.0, 4.0` for the `scale` and keep track of the `accuracy` for training and validation and plot these results."
   ]
  },
  {
   "cell_type": "markdown",
   "metadata": {},
   "source": [
    "# `np.random.normal`\n",
    "\n",
    "## Parameters\n",
    "\n",
    "### loc\n",
    "\n",
    "Mean (“centre”) of the distribution.\n",
    "\n",
    "### scale\n",
    "\n",
    "Standard deviation (spread or “width”) of the distribution. Must be non-negative.\n",
    "\n",
    "### size\n",
    "\n",
    "Output shape. If the given shape is, e.g., (m, n, k), then m * n * k samples are drawn. If size is None (default), a single value is returned if loc and scale are both scalars. Otherwise, np.broadcast(loc, scale).size samples are drawn."
   ]
  },
  {
   "cell_type": "markdown",
   "metadata": {},
   "source": [
    "# Neural Networks - Image Recognition "
   ]
  },
  {
   "cell_type": "code",
   "execution_count": 1,
   "metadata": {},
   "outputs": [],
   "source": [
    "import keras\n",
    "from keras.datasets import mnist\n",
    "from keras.models import Sequential\n",
    "from keras.optimizers import RMSprop\n",
    "from keras.layers import Dense, Dropout, Flatten\n",
    "from keras.layers import Conv2D, MaxPooling2D\n",
    "from keras import backend"
   ]
  },
  {
   "cell_type": "markdown",
   "metadata": {},
   "source": [
    "## Multi Layer Neural Network\n",
    "Trains a simple deep NN on the MNIST dataset.\n",
    "Gets to 98.40% test accuracy after 20 epochs\n",
    "(there is *a lot* of margin for parameter tuning)."
   ]
  },
  {
   "cell_type": "code",
   "execution_count": 2,
   "metadata": {},
   "outputs": [
    {
     "name": "stdout",
     "output_type": "stream",
     "text": [
      "60000 train samples\n",
      "10000 test samples\n"
     ]
    }
   ],
   "source": [
    "# the data, shuffled and split between train and test sets\n",
    "(x_train, y_train), (x_test, y_test) = mnist.load_data()\n",
    "\n",
    "x_train = x_train.reshape(60000, 784)\n",
    "x_test = x_test.reshape(10000, 784)\n",
    "x_train = x_train.astype('float32')\n",
    "x_test = x_test.astype('float32')\n",
    "x_train /= 255\n",
    "x_test /= 255\n",
    "print(x_train.shape[0], 'train samples')\n",
    "print(x_test.shape[0], 'test samples')"
   ]
  },
  {
   "cell_type": "markdown",
   "metadata": {},
   "source": [
    "### <font color='purple'> First, I am running the network without noise added as a baseline.</font>"
   ]
  },
  {
   "cell_type": "code",
   "execution_count": 3,
   "metadata": {},
   "outputs": [
    {
     "name": "stdout",
     "output_type": "stream",
     "text": [
      "Model: \"sequential\"\n",
      "_________________________________________________________________\n",
      " Layer (type)                Output Shape              Param #   \n",
      "=================================================================\n",
      " dense (Dense)               (None, 512)               401920    \n",
      "                                                                 \n",
      " dropout (Dropout)           (None, 512)               0         \n",
      "                                                                 \n",
      " dense_1 (Dense)             (None, 512)               262656    \n",
      "                                                                 \n",
      " dropout_1 (Dropout)         (None, 512)               0         \n",
      "                                                                 \n",
      " dense_2 (Dense)             (None, 10)                5130      \n",
      "                                                                 \n",
      "=================================================================\n",
      "Total params: 669706 (2.55 MB)\n",
      "Trainable params: 669706 (2.55 MB)\n",
      "Non-trainable params: 0 (0.00 Byte)\n",
      "_________________________________________________________________\n",
      "Epoch 1/20\n",
      "469/469 [==============================] - 2s 4ms/step - loss: 0.2471 - accuracy: 0.9251 - val_loss: 0.1043 - val_accuracy: 0.9675\n",
      "Epoch 2/20\n",
      "469/469 [==============================] - 2s 4ms/step - loss: 0.1004 - accuracy: 0.9692 - val_loss: 0.0834 - val_accuracy: 0.9729\n",
      "Epoch 3/20\n",
      "469/469 [==============================] - 2s 4ms/step - loss: 0.0705 - accuracy: 0.9776 - val_loss: 0.0807 - val_accuracy: 0.9746\n",
      "Epoch 4/20\n",
      "469/469 [==============================] - 2s 4ms/step - loss: 0.0588 - accuracy: 0.9817 - val_loss: 0.0601 - val_accuracy: 0.9802\n",
      "Epoch 5/20\n",
      "469/469 [==============================] - 2s 5ms/step - loss: 0.0465 - accuracy: 0.9845 - val_loss: 0.0582 - val_accuracy: 0.9822\n",
      "Epoch 6/20\n",
      "469/469 [==============================] - 2s 4ms/step - loss: 0.0387 - accuracy: 0.9873 - val_loss: 0.0767 - val_accuracy: 0.9771\n",
      "Epoch 7/20\n",
      "469/469 [==============================] - 2s 4ms/step - loss: 0.0346 - accuracy: 0.9890 - val_loss: 0.0722 - val_accuracy: 0.9805\n",
      "Epoch 8/20\n",
      "469/469 [==============================] - 2s 4ms/step - loss: 0.0296 - accuracy: 0.9897 - val_loss: 0.0678 - val_accuracy: 0.9804\n",
      "Epoch 9/20\n",
      "469/469 [==============================] - 2s 5ms/step - loss: 0.0284 - accuracy: 0.9901 - val_loss: 0.0749 - val_accuracy: 0.9802\n",
      "Epoch 10/20\n",
      "469/469 [==============================] - 2s 5ms/step - loss: 0.0275 - accuracy: 0.9904 - val_loss: 0.0652 - val_accuracy: 0.9825\n",
      "Epoch 11/20\n",
      "469/469 [==============================] - 3s 5ms/step - loss: 0.0214 - accuracy: 0.9930 - val_loss: 0.0714 - val_accuracy: 0.9831\n",
      "Epoch 12/20\n",
      "469/469 [==============================] - 3s 6ms/step - loss: 0.0238 - accuracy: 0.9919 - val_loss: 0.0627 - val_accuracy: 0.9832\n",
      "Epoch 13/20\n",
      "469/469 [==============================] - 3s 6ms/step - loss: 0.0208 - accuracy: 0.9930 - val_loss: 0.0783 - val_accuracy: 0.9793\n",
      "Epoch 14/20\n",
      "469/469 [==============================] - 2s 5ms/step - loss: 0.0176 - accuracy: 0.9941 - val_loss: 0.0769 - val_accuracy: 0.9815\n",
      "Epoch 15/20\n",
      "469/469 [==============================] - 2s 5ms/step - loss: 0.0194 - accuracy: 0.9936 - val_loss: 0.0734 - val_accuracy: 0.9827\n",
      "Epoch 16/20\n",
      "469/469 [==============================] - 3s 6ms/step - loss: 0.0160 - accuracy: 0.9944 - val_loss: 0.0724 - val_accuracy: 0.9827\n",
      "Epoch 17/20\n",
      "469/469 [==============================] - 3s 6ms/step - loss: 0.0174 - accuracy: 0.9942 - val_loss: 0.0710 - val_accuracy: 0.9830\n",
      "Epoch 18/20\n",
      "469/469 [==============================] - 3s 6ms/step - loss: 0.0166 - accuracy: 0.9947 - val_loss: 0.0796 - val_accuracy: 0.9830\n",
      "Epoch 19/20\n",
      "469/469 [==============================] - 3s 6ms/step - loss: 0.0170 - accuracy: 0.9946 - val_loss: 0.0707 - val_accuracy: 0.9850\n",
      "Epoch 20/20\n",
      "469/469 [==============================] - 3s 6ms/step - loss: 0.0140 - accuracy: 0.9951 - val_loss: 0.0825 - val_accuracy: 0.9810\n",
      "Test loss: 0.08250267803668976\n",
      "Test accuracy: 0.9810000061988831\n"
     ]
    }
   ],
   "source": [
    "batch_size = 128\n",
    "num_classes = 10\n",
    "epochs = 20\n",
    "\n",
    "\n",
    "\n",
    "y_train = keras.utils.to_categorical(y_train, num_classes)\n",
    "y_test = keras.utils.to_categorical(y_test, num_classes)\n",
    "\n",
    "model = Sequential()\n",
    "model.add(Dense(512, activation='relu', input_shape=(784,)))\n",
    "model.add(Dropout(0.2))\n",
    "model.add(Dense(512, activation='relu'))\n",
    "model.add(Dropout(0.2))\n",
    "model.add(Dense(10, activation='softmax'))\n",
    "\n",
    "model.summary()\n",
    "\n",
    "model.compile(loss='categorical_crossentropy',\n",
    "              optimizer=\"adam\",\n",
    "              metrics=['accuracy'])\n",
    "\n",
    "history = model.fit(x_train, y_train,\n",
    "                    batch_size=batch_size,\n",
    "                    epochs=epochs,\n",
    "                    verbose=1,\n",
    "                    validation_data=(x_test, y_test))\n",
    "baseline_score = model.evaluate(x_test, y_test, verbose=0)\n",
    "print('Test loss:', baseline_score[0])\n",
    "print('Test accuracy:', baseline_score[1])\n",
    "baseline_accuracy = baseline_score[1]"
   ]
  },
  {
   "cell_type": "code",
   "execution_count": 4,
   "metadata": {},
   "outputs": [
    {
     "data": {
      "text/plain": [
       "0.9810000061988831"
      ]
     },
     "execution_count": 4,
     "metadata": {},
     "output_type": "execute_result"
    }
   ],
   "source": [
    "baseline_accuracy"
   ]
  },
  {
   "cell_type": "markdown",
   "metadata": {},
   "source": [
    "### <font color='purple'> Below, I am printing some images and their labels from the unaltered (baseline) dataset.</font>"
   ]
  },
  {
   "cell_type": "code",
   "execution_count": 5,
   "metadata": {},
   "outputs": [
    {
     "data": {
      "text/plain": [
       "((60000, 784), (10000, 784), (60000, 10), (10000, 10))"
      ]
     },
     "execution_count": 5,
     "metadata": {},
     "output_type": "execute_result"
    }
   ],
   "source": [
    "x_train.shape,x_test.shape, y_train.shape, y_test.shape\n"
   ]
  },
  {
   "cell_type": "code",
   "execution_count": 6,
   "metadata": {},
   "outputs": [],
   "source": [
    "import matplotlib.pyplot as  plt\n",
    "%matplotlib inline\n",
    "\n",
    "import numpy as np"
   ]
  },
  {
   "cell_type": "code",
   "execution_count": 7,
   "metadata": {},
   "outputs": [
    {
     "data": {
      "text/plain": [
       "<matplotlib.image.AxesImage at 0x1687c8e80>"
      ]
     },
     "execution_count": 7,
     "metadata": {},
     "output_type": "execute_result"
    },
    {
     "data": {
      "image/png": "[encoded data removed]",
      "text/plain": [
       "<Figure size 640x480 with 1 Axes>"
      ]
     },
     "metadata": {},
     "output_type": "display_data"
    }
   ],
   "source": [
    "plt.imshow(x_train[0].reshape(28,28))"
   ]
  },
  {
   "cell_type": "code",
   "execution_count": 8,
   "metadata": {},
   "outputs": [
    {
     "data": {
      "text/plain": [
       "<matplotlib.image.AxesImage at 0x1690d5600>"
      ]
     },
     "execution_count": 8,
     "metadata": {},
     "output_type": "execute_result"
    },
    {
     "data": {
      "image/png": "[encoded data removed]",
      "text/plain": [
       "<Figure size 640x480 with 1 Axes>"
      ]
     },
     "metadata": {},
     "output_type": "display_data"
    }
   ],
   "source": [
    "plt.imshow(x_test[0].reshape(28,28))"
   ]
  },
  {
   "cell_type": "code",
   "execution_count": 9,
   "metadata": {
    "scrolled": true
   },
   "outputs": [
    {
     "data": {
      "text/plain": [
       "array([0, 0, 0, 0, 0, 1, 0, 0, 0, 0])"
      ]
     },
     "execution_count": 9,
     "metadata": {},
     "output_type": "execute_result"
    }
   ],
   "source": [
    "from numpy import argmax\n",
    "\n",
    "argmax(keras.utils.to_categorical(y_train[0], 10),axis=1)"
   ]
  },
  {
   "cell_type": "code",
   "execution_count": 10,
   "metadata": {},
   "outputs": [
    {
     "data": {
      "text/plain": [
       "array([0, 0, 0, 0, 0, 0, 0, 1, 0, 0])"
      ]
     },
     "execution_count": 10,
     "metadata": {},
     "output_type": "execute_result"
    }
   ],
   "source": [
    "argmax(keras.utils.to_categorical(y_test[0], 10),axis=1)"
   ]
  },
  {
   "cell_type": "markdown",
   "metadata": {},
   "source": [
    "### <font color='purple'> Adding noise here</font>"
   ]
  },
  {
   "cell_type": "code",
   "execution_count": 11,
   "metadata": {},
   "outputs": [],
   "source": [
    "scale = [0.1, 0.5, 1.0, 2.0, 4.0]"
   ]
  },
  {
   "cell_type": "code",
   "execution_count": 12,
   "metadata": {},
   "outputs": [],
   "source": [
    "noise_0_train = np.random.normal(scale=0.1, size=[60000, 784])\n",
    "noise_1_train = np.random.normal(scale=0.5, size=[60000, 784])\n",
    "noise_2_train = np.random.normal(scale=1.0, size=[60000, 784])\n",
    "noise_3_train = np.random.normal(scale=2.0, size=[60000, 784])\n",
    "noise_4_train = np.random.normal(scale=4.0, size=[60000, 784])\n",
    "\n",
    "noise_0_test = np.random.normal(scale=0.1, size=[10000, 784])\n",
    "noise_1_test = np.random.normal(scale=0.5, size=[10000, 784])\n",
    "noise_2_test = np.random.normal(scale=1.0, size=[10000, 784])\n",
    "noise_3_test = np.random.normal(scale=2.0, size=[10000, 784])\n",
    "noise_4_test = np.random.normal(scale=4.0, size=[10000, 784])"
   ]
  },
  {
   "cell_type": "code",
   "execution_count": 13,
   "metadata": {},
   "outputs": [],
   "source": [
    "x_train_n0 = x_train + noise_0_train\n",
    "x_train_n1 = x_train + noise_1_train\n",
    "x_train_n2 = x_train + noise_2_train\n",
    "x_train_n3 = x_train + noise_3_train\n",
    "x_train_n4 = x_train + noise_4_train\n",
    "\n",
    "x_test_n0 = x_test + noise_0_test\n",
    "x_test_n1 = x_test + noise_1_test\n",
    "x_test_n2 = x_test + noise_2_test\n",
    "x_test_n3 = x_test + noise_3_test\n",
    "x_test_n4 = x_test + noise_4_test"
   ]
  },
  {
   "cell_type": "markdown",
   "metadata": {},
   "source": [
    "### <font color='purple'> Inspecting noisy images here</font>"
   ]
  },
  {
   "cell_type": "code",
   "execution_count": 14,
   "metadata": {},
   "outputs": [
    {
     "data": {
      "text/plain": [
       "<matplotlib.image.AxesImage at 0x169156050>"
      ]
     },
     "execution_count": 14,
     "metadata": {},
     "output_type": "execute_result"
    },
    {
     "data": {
      "image/png": "[encoded data removed]",
      "text/plain": [
       "<Figure size 640x480 with 1 Axes>"
      ]
     },
     "metadata": {},
     "output_type": "display_data"
    }
   ],
   "source": [
    "plt.imshow(x_train_n0[0].reshape(28,28))"
   ]
  },
  {
   "cell_type": "code",
   "execution_count": 15,
   "metadata": {},
   "outputs": [
    {
     "data": {
      "text/plain": [
       "<matplotlib.image.AxesImage at 0x1691dae60>"
      ]
     },
     "execution_count": 15,
     "metadata": {},
     "output_type": "execute_result"
    },
    {
     "data": {
      "image/png": "[encoded data removed]",
      "text/plain": [
       "<Figure size 640x480 with 1 Axes>"
      ]
     },
     "metadata": {},
     "output_type": "display_data"
    }
   ],
   "source": [
    "plt.imshow(x_train_n1[0].reshape(28,28))"
   ]
  },
  {
   "cell_type": "code",
   "execution_count": 16,
   "metadata": {},
   "outputs": [
    {
     "data": {
      "text/plain": [
       "<matplotlib.image.AxesImage at 0x169243b20>"
      ]
     },
     "execution_count": 16,
     "metadata": {},
     "output_type": "execute_result"
    },
    {
     "data": {
      "image/png": "[encoded data removed]",
      "text/plain": [
       "<Figure size 640x480 with 1 Axes>"
      ]
     },
     "metadata": {},
     "output_type": "display_data"
    }
   ],
   "source": [
    "plt.imshow(x_train_n2[0].reshape(28,28))"
   ]
  },
  {
   "cell_type": "code",
   "execution_count": 17,
   "metadata": {},
   "outputs": [
    {
     "data": {
      "text/plain": [
       "<matplotlib.image.AxesImage at 0x16910a080>"
      ]
     },
     "execution_count": 17,
     "metadata": {},
     "output_type": "execute_result"
    },
    {
     "data": {
      "image/png": "[encoded data removed]",
      "text/plain": [
       "<Figure size 640x480 with 1 Axes>"
      ]
     },
     "metadata": {},
     "output_type": "display_data"
    }
   ],
   "source": [
    "plt.imshow(x_train_n3[0].reshape(28,28))"
   ]
  },
  {
   "cell_type": "code",
   "execution_count": 18,
   "metadata": {},
   "outputs": [
    {
     "data": {
      "text/plain": [
       "<matplotlib.image.AxesImage at 0x1692acc40>"
      ]
     },
     "execution_count": 18,
     "metadata": {},
     "output_type": "execute_result"
    },
    {
     "data": {
      "image/png": "[encoded data removed]",
      "text/plain": [
       "<Figure size 640x480 with 1 Axes>"
      ]
     },
     "metadata": {},
     "output_type": "display_data"
    }
   ],
   "source": [
    "plt.imshow(x_train_n4[0].reshape(28,28))"
   ]
  },
  {
   "cell_type": "code",
   "execution_count": 19,
   "metadata": {},
   "outputs": [
    {
     "data": {
      "text/plain": [
       "<matplotlib.image.AxesImage at 0x16935bdf0>"
      ]
     },
     "execution_count": 19,
     "metadata": {},
     "output_type": "execute_result"
    },
    {
     "data": {
      "image/png": "[encoded data removed]",
      "text/plain": [
       "<Figure size 640x480 with 1 Axes>"
      ]
     },
     "metadata": {},
     "output_type": "display_data"
    }
   ],
   "source": [
    "plt.imshow(x_test_n0[0].reshape(28,28))"
   ]
  },
  {
   "cell_type": "code",
   "execution_count": 20,
   "metadata": {},
   "outputs": [
    {
     "data": {
      "text/plain": [
       "<matplotlib.image.AxesImage at 0x1693e0e80>"
      ]
     },
     "execution_count": 20,
     "metadata": {},
     "output_type": "execute_result"
    },
    {
     "data": {
      "image/png": "[encoded data removed]",
      "text/plain": [
       "<Figure size 640x480 with 1 Axes>"
      ]
     },
     "metadata": {},
     "output_type": "display_data"
    }
   ],
   "source": [
    "plt.imshow(x_test_n1[0].reshape(28,28))"
   ]
  },
  {
   "cell_type": "markdown",
   "metadata": {},
   "source": [
    "### <font color='purple'> I will use the following code chunks to train the NN with the different noise parameters (created above). I will also keep track of each accuracy score output, in respect to the noise parameters used during training.</font>"
   ]
  },
  {
   "cell_type": "code",
   "execution_count": 36,
   "metadata": {},
   "outputs": [
    {
     "name": "stdout",
     "output_type": "stream",
     "text": [
      "Epoch 1/20\n",
      "469/469 [==============================] - 2s 4ms/step - loss: 0.2705 - accuracy: 0.9186 - val_loss: 0.1129 - val_accuracy: 0.9650\n",
      "Epoch 2/20\n",
      "469/469 [==============================] - 2s 4ms/step - loss: 0.1007 - accuracy: 0.9688 - val_loss: 0.0963 - val_accuracy: 0.9695\n",
      "Epoch 3/20\n",
      "469/469 [==============================] - 2s 4ms/step - loss: 0.0604 - accuracy: 0.9810 - val_loss: 0.0899 - val_accuracy: 0.9711\n",
      "Epoch 4/20\n",
      "469/469 [==============================] - 2s 4ms/step - loss: 0.0450 - accuracy: 0.9855 - val_loss: 0.0817 - val_accuracy: 0.9751\n",
      "Epoch 5/20\n",
      "469/469 [==============================] - 2s 4ms/step - loss: 0.0328 - accuracy: 0.9893 - val_loss: 0.0888 - val_accuracy: 0.9768\n",
      "Epoch 6/20\n",
      "469/469 [==============================] - 2s 4ms/step - loss: 0.0262 - accuracy: 0.9912 - val_loss: 0.0957 - val_accuracy: 0.9750\n",
      "Epoch 7/20\n",
      "469/469 [==============================] - 2s 4ms/step - loss: 0.0237 - accuracy: 0.9923 - val_loss: 0.1036 - val_accuracy: 0.9744\n",
      "Epoch 8/20\n",
      "469/469 [==============================] - 2s 4ms/step - loss: 0.0217 - accuracy: 0.9928 - val_loss: 0.0886 - val_accuracy: 0.9786\n",
      "Epoch 9/20\n",
      "469/469 [==============================] - 2s 4ms/step - loss: 0.0202 - accuracy: 0.9933 - val_loss: 0.1092 - val_accuracy: 0.9738\n",
      "Epoch 10/20\n",
      "469/469 [==============================] - 2s 4ms/step - loss: 0.0182 - accuracy: 0.9940 - val_loss: 0.0991 - val_accuracy: 0.9785\n",
      "Epoch 11/20\n",
      "469/469 [==============================] - 2s 4ms/step - loss: 0.0167 - accuracy: 0.9943 - val_loss: 0.1005 - val_accuracy: 0.9766\n",
      "Epoch 12/20\n",
      "469/469 [==============================] - 2s 4ms/step - loss: 0.0157 - accuracy: 0.9949 - val_loss: 0.1169 - val_accuracy: 0.9746\n",
      "Epoch 13/20\n",
      "469/469 [==============================] - 2s 4ms/step - loss: 0.0146 - accuracy: 0.9952 - val_loss: 0.1081 - val_accuracy: 0.9749\n",
      "Epoch 14/20\n",
      "469/469 [==============================] - 2s 4ms/step - loss: 0.0164 - accuracy: 0.9945 - val_loss: 0.1088 - val_accuracy: 0.9773\n",
      "Epoch 15/20\n",
      "469/469 [==============================] - 2s 4ms/step - loss: 0.0150 - accuracy: 0.9952 - val_loss: 0.1079 - val_accuracy: 0.9787\n",
      "Epoch 16/20\n",
      "469/469 [==============================] - 2s 4ms/step - loss: 0.0139 - accuracy: 0.9955 - val_loss: 0.1311 - val_accuracy: 0.9761\n",
      "Epoch 17/20\n",
      "469/469 [==============================] - 2s 4ms/step - loss: 0.0118 - accuracy: 0.9960 - val_loss: 0.1209 - val_accuracy: 0.9782\n",
      "Epoch 18/20\n",
      "469/469 [==============================] - 2s 5ms/step - loss: 0.0122 - accuracy: 0.9960 - val_loss: 0.1213 - val_accuracy: 0.9777\n",
      "Epoch 19/20\n",
      "469/469 [==============================] - 2s 4ms/step - loss: 0.0105 - accuracy: 0.9966 - val_loss: 0.1346 - val_accuracy: 0.9763\n",
      "Epoch 20/20\n",
      "469/469 [==============================] - 2s 4ms/step - loss: 0.0117 - accuracy: 0.9962 - val_loss: 0.1244 - val_accuracy: 0.9789\n",
      "Epoch 1/20\n",
      "469/469 [==============================] - 2s 4ms/step - loss: 0.5538 - accuracy: 0.8188 - val_loss: 0.3163 - val_accuracy: 0.8958\n",
      "Epoch 2/20\n",
      "469/469 [==============================] - 2s 4ms/step - loss: 0.2418 - accuracy: 0.9232 - val_loss: 0.2779 - val_accuracy: 0.9096\n",
      "Epoch 3/20\n",
      "469/469 [==============================] - 2s 4ms/step - loss: 0.1319 - accuracy: 0.9579 - val_loss: 0.2737 - val_accuracy: 0.9180\n",
      "Epoch 4/20\n",
      "469/469 [==============================] - 2s 4ms/step - loss: 0.0785 - accuracy: 0.9733 - val_loss: 0.2997 - val_accuracy: 0.9208\n",
      "Epoch 5/20\n",
      "469/469 [==============================] - 2s 4ms/step - loss: 0.0552 - accuracy: 0.9810 - val_loss: 0.3331 - val_accuracy: 0.9194\n",
      "Epoch 6/20\n",
      "469/469 [==============================] - 2s 4ms/step - loss: 0.0423 - accuracy: 0.9854 - val_loss: 0.3856 - val_accuracy: 0.9127\n",
      "Epoch 7/20\n",
      "469/469 [==============================] - 2s 4ms/step - loss: 0.0413 - accuracy: 0.9860 - val_loss: 0.3941 - val_accuracy: 0.9165\n",
      "Epoch 8/20\n",
      "469/469 [==============================] - 2s 4ms/step - loss: 0.0397 - accuracy: 0.9869 - val_loss: 0.3996 - val_accuracy: 0.9179\n",
      "Epoch 9/20\n",
      "469/469 [==============================] - 2s 4ms/step - loss: 0.0338 - accuracy: 0.9889 - val_loss: 0.4307 - val_accuracy: 0.9149\n",
      "Epoch 10/20\n",
      "469/469 [==============================] - 2s 4ms/step - loss: 0.0304 - accuracy: 0.9898 - val_loss: 0.4173 - val_accuracy: 0.9171\n",
      "Epoch 11/20\n",
      "469/469 [==============================] - 2s 4ms/step - loss: 0.0316 - accuracy: 0.9894 - val_loss: 0.4406 - val_accuracy: 0.9202\n",
      "Epoch 12/20\n",
      "469/469 [==============================] - 2s 4ms/step - loss: 0.0288 - accuracy: 0.9909 - val_loss: 0.4430 - val_accuracy: 0.9206\n",
      "Epoch 13/20\n",
      "469/469 [==============================] - 2s 4ms/step - loss: 0.0261 - accuracy: 0.9912 - val_loss: 0.4714 - val_accuracy: 0.9212\n",
      "Epoch 14/20\n",
      "469/469 [==============================] - 2s 4ms/step - loss: 0.0252 - accuracy: 0.9908 - val_loss: 0.4880 - val_accuracy: 0.9181\n",
      "Epoch 15/20\n",
      "469/469 [==============================] - 2s 4ms/step - loss: 0.0264 - accuracy: 0.9910 - val_loss: 0.4908 - val_accuracy: 0.9189\n",
      "Epoch 16/20\n",
      "469/469 [==============================] - 2s 4ms/step - loss: 0.0246 - accuracy: 0.9922 - val_loss: 0.4754 - val_accuracy: 0.9207\n",
      "Epoch 17/20\n",
      "469/469 [==============================] - 2s 4ms/step - loss: 0.0214 - accuracy: 0.9928 - val_loss: 0.5086 - val_accuracy: 0.9192\n",
      "Epoch 18/20\n",
      "469/469 [==============================] - 2s 4ms/step - loss: 0.0270 - accuracy: 0.9917 - val_loss: 0.5277 - val_accuracy: 0.9171\n",
      "Epoch 19/20\n",
      "469/469 [==============================] - 2s 4ms/step - loss: 0.0227 - accuracy: 0.9929 - val_loss: 0.5208 - val_accuracy: 0.9194\n",
      "Epoch 20/20\n",
      "469/469 [==============================] - 2s 4ms/step - loss: 0.0195 - accuracy: 0.9936 - val_loss: 0.5097 - val_accuracy: 0.9215\n",
      "Epoch 1/20\n",
      "469/469 [==============================] - 2s 4ms/step - loss: 1.0810 - accuracy: 0.6350 - val_loss: 0.7870 - val_accuracy: 0.7394\n",
      "Epoch 2/20\n",
      "469/469 [==============================] - 2s 4ms/step - loss: 0.6786 - accuracy: 0.7720 - val_loss: 0.7222 - val_accuracy: 0.7545\n",
      "Epoch 3/20\n",
      "469/469 [==============================] - 2s 4ms/step - loss: 0.4795 - accuracy: 0.8395 - val_loss: 0.7291 - val_accuracy: 0.7611\n",
      "Epoch 4/20\n",
      "469/469 [==============================] - 2s 4ms/step - loss: 0.3298 - accuracy: 0.8886 - val_loss: 0.7600 - val_accuracy: 0.7650\n",
      "Epoch 5/20\n",
      "469/469 [==============================] - 2s 4ms/step - loss: 0.2362 - accuracy: 0.9185 - val_loss: 0.8496 - val_accuracy: 0.7589\n",
      "Epoch 6/20\n",
      "469/469 [==============================] - 2s 4ms/step - loss: 0.1777 - accuracy: 0.9385 - val_loss: 0.9511 - val_accuracy: 0.7583\n",
      "Epoch 7/20\n",
      "469/469 [==============================] - 2s 4ms/step - loss: 0.1369 - accuracy: 0.9528 - val_loss: 1.0228 - val_accuracy: 0.7576\n",
      "Epoch 8/20\n",
      "469/469 [==============================] - 2s 4ms/step - loss: 0.1268 - accuracy: 0.9559 - val_loss: 1.0693 - val_accuracy: 0.7604\n",
      "Epoch 9/20\n",
      "469/469 [==============================] - 2s 4ms/step - loss: 0.1105 - accuracy: 0.9620 - val_loss: 1.1430 - val_accuracy: 0.7585\n",
      "Epoch 10/20\n",
      "469/469 [==============================] - 2s 4ms/step - loss: 0.1067 - accuracy: 0.9630 - val_loss: 1.1502 - val_accuracy: 0.7583\n",
      "Epoch 11/20\n",
      "469/469 [==============================] - 2s 4ms/step - loss: 0.0954 - accuracy: 0.9679 - val_loss: 1.2235 - val_accuracy: 0.7571\n",
      "Epoch 12/20\n",
      "469/469 [==============================] - 2s 4ms/step - loss: 0.0919 - accuracy: 0.9691 - val_loss: 1.2692 - val_accuracy: 0.7569\n",
      "Epoch 13/20\n",
      "469/469 [==============================] - 2s 4ms/step - loss: 0.0885 - accuracy: 0.9701 - val_loss: 1.2632 - val_accuracy: 0.7570\n",
      "Epoch 14/20\n",
      "469/469 [==============================] - 2s 4ms/step - loss: 0.0804 - accuracy: 0.9724 - val_loss: 1.3385 - val_accuracy: 0.7593\n",
      "Epoch 15/20\n",
      "469/469 [==============================] - 2s 4ms/step - loss: 0.0782 - accuracy: 0.9738 - val_loss: 1.3357 - val_accuracy: 0.7557\n",
      "Epoch 16/20\n",
      "469/469 [==============================] - 2s 4ms/step - loss: 0.0772 - accuracy: 0.9745 - val_loss: 1.4011 - val_accuracy: 0.7584\n",
      "Epoch 17/20\n",
      "469/469 [==============================] - 2s 4ms/step - loss: 0.0725 - accuracy: 0.9758 - val_loss: 1.4385 - val_accuracy: 0.7565\n",
      "Epoch 18/20\n"
     ]
    },
    {
     "name": "stdout",
     "output_type": "stream",
     "text": [
      "469/469 [==============================] - 2s 4ms/step - loss: 0.0747 - accuracy: 0.9751 - val_loss: 1.3754 - val_accuracy: 0.7569\n",
      "Epoch 19/20\n",
      "469/469 [==============================] - 2s 4ms/step - loss: 0.0666 - accuracy: 0.9780 - val_loss: 1.4689 - val_accuracy: 0.7601\n",
      "Epoch 20/20\n",
      "469/469 [==============================] - 2s 4ms/step - loss: 0.0652 - accuracy: 0.9788 - val_loss: 1.4787 - val_accuracy: 0.7583\n",
      "Epoch 1/20\n",
      "469/469 [==============================] - 2s 4ms/step - loss: 1.8725 - accuracy: 0.3476 - val_loss: 1.5814 - val_accuracy: 0.4538\n",
      "Epoch 2/20\n",
      "469/469 [==============================] - 2s 4ms/step - loss: 1.4790 - accuracy: 0.4873 - val_loss: 1.5494 - val_accuracy: 0.4601\n",
      "Epoch 3/20\n",
      "469/469 [==============================] - 2s 4ms/step - loss: 1.3051 - accuracy: 0.5488 - val_loss: 1.5712 - val_accuracy: 0.4563\n",
      "Epoch 4/20\n",
      "469/469 [==============================] - 2s 4ms/step - loss: 1.1352 - accuracy: 0.6067 - val_loss: 1.6222 - val_accuracy: 0.4491\n",
      "Epoch 5/20\n",
      "469/469 [==============================] - 2s 4ms/step - loss: 0.9694 - accuracy: 0.6613 - val_loss: 1.6840 - val_accuracy: 0.4404\n",
      "Epoch 6/20\n",
      "469/469 [==============================] - 2s 4ms/step - loss: 0.8241 - accuracy: 0.7143 - val_loss: 1.7601 - val_accuracy: 0.4423\n",
      "Epoch 7/20\n",
      "469/469 [==============================] - 2s 4ms/step - loss: 0.7018 - accuracy: 0.7552 - val_loss: 1.9115 - val_accuracy: 0.4283\n",
      "Epoch 8/20\n",
      "469/469 [==============================] - 2s 4ms/step - loss: 0.6049 - accuracy: 0.7896 - val_loss: 2.0185 - val_accuracy: 0.4310\n",
      "Epoch 9/20\n",
      "469/469 [==============================] - 2s 4ms/step - loss: 0.5371 - accuracy: 0.8145 - val_loss: 2.1006 - val_accuracy: 0.4325\n",
      "Epoch 10/20\n",
      "469/469 [==============================] - 2s 4ms/step - loss: 0.4774 - accuracy: 0.8351 - val_loss: 2.2616 - val_accuracy: 0.4230\n",
      "Epoch 11/20\n",
      "469/469 [==============================] - 2s 4ms/step - loss: 0.4352 - accuracy: 0.8485 - val_loss: 2.3233 - val_accuracy: 0.4223\n",
      "Epoch 12/20\n",
      "469/469 [==============================] - 2s 4ms/step - loss: 0.4010 - accuracy: 0.8608 - val_loss: 2.3576 - val_accuracy: 0.4214\n",
      "Epoch 13/20\n",
      "469/469 [==============================] - 2s 4ms/step - loss: 0.3786 - accuracy: 0.8680 - val_loss: 2.4381 - val_accuracy: 0.4218\n",
      "Epoch 14/20\n",
      "469/469 [==============================] - 2s 4ms/step - loss: 0.3537 - accuracy: 0.8789 - val_loss: 2.5132 - val_accuracy: 0.4237\n",
      "Epoch 15/20\n",
      "469/469 [==============================] - 2s 4ms/step - loss: 0.3397 - accuracy: 0.8821 - val_loss: 2.5585 - val_accuracy: 0.4190\n",
      "Epoch 16/20\n",
      "469/469 [==============================] - 2s 4ms/step - loss: 0.3194 - accuracy: 0.8904 - val_loss: 2.6038 - val_accuracy: 0.4240\n",
      "Epoch 17/20\n",
      "469/469 [==============================] - 2s 4ms/step - loss: 0.3024 - accuracy: 0.8975 - val_loss: 2.6509 - val_accuracy: 0.4174\n",
      "Epoch 18/20\n",
      "469/469 [==============================] - 2s 4ms/step - loss: 0.3021 - accuracy: 0.8967 - val_loss: 2.7156 - val_accuracy: 0.4182\n",
      "Epoch 19/20\n",
      "469/469 [==============================] - 2s 4ms/step - loss: 0.2881 - accuracy: 0.9013 - val_loss: 2.7989 - val_accuracy: 0.4178\n",
      "Epoch 20/20\n",
      "469/469 [==============================] - 2s 4ms/step - loss: 0.2839 - accuracy: 0.9032 - val_loss: 2.8580 - val_accuracy: 0.4184\n",
      "Epoch 1/20\n",
      "469/469 [==============================] - 2s 4ms/step - loss: 2.4290 - accuracy: 0.1334 - val_loss: 2.1927 - val_accuracy: 0.1982\n",
      "Epoch 2/20\n",
      "469/469 [==============================] - 2s 4ms/step - loss: 2.1310 - accuracy: 0.2315 - val_loss: 2.1262 - val_accuracy: 0.2327\n",
      "Epoch 3/20\n",
      "469/469 [==============================] - 2s 4ms/step - loss: 2.0054 - accuracy: 0.2886 - val_loss: 2.1214 - val_accuracy: 0.2364\n",
      "Epoch 4/20\n",
      "469/469 [==============================] - 2s 4ms/step - loss: 1.8961 - accuracy: 0.3298 - val_loss: 2.1441 - val_accuracy: 0.2311\n",
      "Epoch 5/20\n",
      "469/469 [==============================] - 2s 4ms/step - loss: 1.7917 - accuracy: 0.3733 - val_loss: 2.1619 - val_accuracy: 0.2253\n",
      "Epoch 6/20\n",
      "469/469 [==============================] - 2s 4ms/step - loss: 1.6764 - accuracy: 0.4157 - val_loss: 2.2030 - val_accuracy: 0.2249\n",
      "Epoch 7/20\n",
      "469/469 [==============================] - 2s 4ms/step - loss: 1.5684 - accuracy: 0.4509 - val_loss: 2.2435 - val_accuracy: 0.2159\n",
      "Epoch 8/20\n",
      "469/469 [==============================] - 2s 4ms/step - loss: 1.4585 - accuracy: 0.4934 - val_loss: 2.2927 - val_accuracy: 0.2218\n",
      "Epoch 9/20\n",
      "469/469 [==============================] - 2s 4ms/step - loss: 1.3648 - accuracy: 0.5273 - val_loss: 2.3454 - val_accuracy: 0.2142\n",
      "Epoch 10/20\n",
      "469/469 [==============================] - 2s 4ms/step - loss: 1.2735 - accuracy: 0.5575 - val_loss: 2.3841 - val_accuracy: 0.2126\n",
      "Epoch 11/20\n",
      "469/469 [==============================] - 2s 4ms/step - loss: 1.2012 - accuracy: 0.5855 - val_loss: 2.4740 - val_accuracy: 0.2108\n",
      "Epoch 12/20\n",
      "469/469 [==============================] - 2s 4ms/step - loss: 1.1308 - accuracy: 0.6107 - val_loss: 2.5191 - val_accuracy: 0.2082\n",
      "Epoch 13/20\n",
      "469/469 [==============================] - 2s 4ms/step - loss: 1.0724 - accuracy: 0.6293 - val_loss: 2.5407 - val_accuracy: 0.2041\n",
      "Epoch 14/20\n",
      "469/469 [==============================] - 2s 4ms/step - loss: 1.0223 - accuracy: 0.6487 - val_loss: 2.5949 - val_accuracy: 0.2067\n",
      "Epoch 15/20\n",
      "469/469 [==============================] - 2s 4ms/step - loss: 0.9724 - accuracy: 0.6669 - val_loss: 2.6476 - val_accuracy: 0.2038\n",
      "Epoch 16/20\n",
      "469/469 [==============================] - 2s 4ms/step - loss: 0.9440 - accuracy: 0.6755 - val_loss: 2.6714 - val_accuracy: 0.2004\n",
      "Epoch 17/20\n",
      "469/469 [==============================] - 2s 4ms/step - loss: 0.9006 - accuracy: 0.6908 - val_loss: 2.7401 - val_accuracy: 0.2032\n",
      "Epoch 18/20\n",
      "469/469 [==============================] - 2s 4ms/step - loss: 0.8670 - accuracy: 0.7031 - val_loss: 2.7822 - val_accuracy: 0.2034\n",
      "Epoch 19/20\n",
      "469/469 [==============================] - 2s 4ms/step - loss: 0.8492 - accuracy: 0.7113 - val_loss: 2.8030 - val_accuracy: 0.2029\n",
      "Epoch 20/20\n",
      "469/469 [==============================] - 2s 4ms/step - loss: 0.8252 - accuracy: 0.7179 - val_loss: 2.8307 - val_accuracy: 0.2027\n"
     ]
    }
   ],
   "source": [
    "batch_size = 128\n",
    "num_classes = 10\n",
    "epochs = 20\n",
    "\n",
    "x_train_noisy = [x_train_n0, x_train_n1, x_train_n2, x_train_n3, x_train_n4]\n",
    "x_test_noisy = [x_test_n0, x_test_n1, x_test_n2, x_test_n3, x_test_n4]\n",
    "\n",
    "noisy_scores = []\n",
    "\n",
    "\n",
    "    \n",
    "for i in [0,1,2,3,4]:\n",
    "    model_noisy = Sequential()\n",
    "    model_noisy.add(Dense(512, activation='relu', input_shape=(784,)))\n",
    "    model_noisy.add(Dropout(0.2))\n",
    "    model_noisy.add(Dense(512, activation='relu'))\n",
    "    model_noisy.add(Dropout(0.2))\n",
    "    model_noisy.add(Dense(10, activation='softmax'))\n",
    "\n",
    "   \n",
    "\n",
    "    model_noisy.compile(loss='categorical_crossentropy',\n",
    "            optimizer=\"adam\",\n",
    "            metrics=['accuracy'])\n",
    "\n",
    "    history_noisy = model_noisy.fit(x_train_noisy[i], y_train,\n",
    "                batch_size=batch_size,\n",
    "                epochs=epochs,\n",
    "                verbose=1,\n",
    "                validation_data=(x_test_noisy[i], y_test))\n",
    "    score_noisy = model_noisy.evaluate(x_test_noisy[i], y_test, verbose=0)\n",
    "        \n",
    "        \n",
    "    noisy_scores.append(score_noisy[1])\n",
    "\n"
   ]
  },
  {
   "cell_type": "code",
   "execution_count": 41,
   "metadata": {},
   "outputs": [
    {
     "data": {
      "text/plain": [
       "(0.9810000061988831,\n",
       " [0.9789000153541565,\n",
       "  0.921500027179718,\n",
       "  0.7583000063896179,\n",
       "  0.41839998960494995,\n",
       "  0.20270000398159027])"
      ]
     },
     "execution_count": 41,
     "metadata": {},
     "output_type": "execute_result"
    }
   ],
   "source": [
    "baseline_accuracy, noisy_scores"
   ]
  },
  {
   "cell_type": "code",
   "execution_count": 46,
   "metadata": {},
   "outputs": [
    {
     "data": {
      "text/plain": [
       "Text(0.5, 1.0, 'NN Accuracy Scores for different levels of noise')"
      ]
     },
     "execution_count": 46,
     "metadata": {},
     "output_type": "execute_result"
    },
    {
     "data": {
      "image/png": "[encoded data removed]",
      "text/plain": [
       "<Figure size 640x480 with 1 Axes>"
      ]
     },
     "metadata": {},
     "output_type": "display_data"
    }
   ],
   "source": [
    "plt.figure()\n",
    "plt.xlabel('Scale Parameter Setting (np.random.normal)')\n",
    "plt.ylabel('Accuracy Score')\n",
    "plt.plot(scale, noisy_scores)\n",
    "plt.axhline(baseline_accuracy, color='purple') # baseline accuracy score\n",
    "plt.title(\"NN Accuracy Scores for different levels of noise\")"
   ]
  },
  {
   "cell_type": "code",
   "execution_count": null,
   "metadata": {},
   "outputs": [],
   "source": []
  }
 ],
 "metadata": {
  "kernelspec": {
   "display_name": "Python 3 (ipykernel)",
   "language": "python",
   "name": "python3"
  },
  "language_info": {
   "codemirror_mode": {
    "name": "ipython",
    "version": 3
   },
   "file_extension": ".py",
   "mimetype": "text/x-python",
   "name": "python",
   "nbconvert_exporter": "python",
   "pygments_lexer": "ipython3",
   "version": "3.10.9"
  }
 },
 "nbformat": 4,
 "nbformat_minor": 2
}
