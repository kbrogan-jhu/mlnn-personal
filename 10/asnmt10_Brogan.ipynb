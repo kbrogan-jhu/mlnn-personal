{
 "cells": [
  {
   "cell_type": "markdown",
   "metadata": {},
   "source": [
    "## Neural Networks image recognition - MultiLayer Perceptron\n",
    "Use both MLNN for the following problem.\n",
    "\n",
    "1. Add random noise (see below on `size parameter` on [`np.random.normal`](https://numpy.org/doc/stable/reference/random/generated/numpy.random.normal.html)) to the images in training and testing. **Make sure each image gets a different noise feature added to it. Inspect by printing out several images. Note - the `size` parameter should match the data. **\n",
    "2. Compare the `accuracy` of train and val after N epochs for MLNN with and without noise. \n",
    "3. Vary the amount of noise by changing the `scale` parameter in `np.random.normal` by a factor. Use `.1, .5, 1.0, 2.0, 4.0` for the `scale` and keep track of the `accuracy` for training and validation and plot these results."
   ]
  },
  {
   "cell_type": "markdown",
   "metadata": {},
   "source": [
    "# `np.random.normal`\n",
    "\n",
    "## Parameters\n",
    "\n",
    "### loc\n",
    "\n",
    "Mean (“centre”) of the distribution.\n",
    "\n",
    "### scale\n",
    "\n",
    "Standard deviation (spread or “width”) of the distribution. Must be non-negative.\n",
    "\n",
    "### size\n",
    "\n",
    "Output shape. If the given shape is, e.g., (m, n, k), then m * n * k samples are drawn. If size is None (default), a single value is returned if loc and scale are both scalars. Otherwise, np.broadcast(loc, scale).size samples are drawn."
   ]
  },
  {
   "cell_type": "markdown",
   "metadata": {},
   "source": [
    "# Neural Networks - Image Recognition "
   ]
  },
  {
   "cell_type": "code",
   "execution_count": 1,
   "metadata": {},
   "outputs": [],
   "source": [
    "import keras\n",
    "from keras.datasets import mnist\n",
    "from keras.models import Sequential\n",
    "from keras.optimizers import RMSprop\n",
    "from keras.layers import Dense, Dropout, Flatten\n",
    "from keras.layers import Conv2D, MaxPooling2D\n",
    "from keras import backend"
   ]
  },
  {
   "cell_type": "markdown",
   "metadata": {},
   "source": [
    "## Multi Layer Neural Network\n",
    "Trains a simple deep NN on the MNIST dataset.\n",
    "Gets to 98.40% test accuracy after 20 epochs\n",
    "(there is *a lot* of margin for parameter tuning)."
   ]
  },
  {
   "cell_type": "code",
   "execution_count": 2,
   "metadata": {},
   "outputs": [
    {
     "name": "stdout",
     "output_type": "stream",
     "text": [
      "60000 train samples\n",
      "10000 test samples\n"
     ]
    }
   ],
   "source": [
    "# the data, shuffled and split between train and test sets\n",
    "(x_train, y_train), (x_test, y_test) = mnist.load_data()\n",
    "\n",
    "x_train = x_train.reshape(60000, 784)\n",
    "x_test = x_test.reshape(10000, 784)\n",
    "x_train = x_train.astype('float32')\n",
    "x_test = x_test.astype('float32')\n",
    "x_train /= 255\n",
    "x_test /= 255\n",
    "print(x_train.shape[0], 'train samples')\n",
    "print(x_test.shape[0], 'test samples')"
   ]
  },
  {
   "cell_type": "markdown",
   "metadata": {},
   "source": [
    "### <font color='purple'> First, I am running the network without noise added as a baseline.</font>"
   ]
  },
  {
   "cell_type": "code",
   "execution_count": 3,
   "metadata": {},
   "outputs": [
    {
     "name": "stdout",
     "output_type": "stream",
     "text": [
      "Model: \"sequential\"\n",
      "_________________________________________________________________\n",
      " Layer (type)                Output Shape              Param #   \n",
      "=================================================================\n",
      " dense (Dense)               (None, 512)               401920    \n",
      "                                                                 \n",
      " dropout (Dropout)           (None, 512)               0         \n",
      "                                                                 \n",
      " dense_1 (Dense)             (None, 512)               262656    \n",
      "                                                                 \n",
      " dropout_1 (Dropout)         (None, 512)               0         \n",
      "                                                                 \n",
      " dense_2 (Dense)             (None, 10)                5130      \n",
      "                                                                 \n",
      "=================================================================\n",
      "Total params: 669706 (2.55 MB)\n",
      "Trainable params: 669706 (2.55 MB)\n",
      "Non-trainable params: 0 (0.00 Byte)\n",
      "_________________________________________________________________\n",
      "Epoch 1/20\n",
      "469/469 [==============================] - 2s 4ms/step - loss: 0.2481 - accuracy: 0.9243 - val_loss: 0.1045 - val_accuracy: 0.9671\n",
      "Epoch 2/20\n",
      "469/469 [==============================] - 2s 4ms/step - loss: 0.1000 - accuracy: 0.9697 - val_loss: 0.0764 - val_accuracy: 0.9784\n",
      "Epoch 3/20\n",
      "469/469 [==============================] - 2s 4ms/step - loss: 0.0720 - accuracy: 0.9778 - val_loss: 0.0691 - val_accuracy: 0.9781\n",
      "Epoch 4/20\n",
      "469/469 [==============================] - 2s 5ms/step - loss: 0.0559 - accuracy: 0.9824 - val_loss: 0.0643 - val_accuracy: 0.9808\n",
      "Epoch 5/20\n",
      "469/469 [==============================] - 2s 5ms/step - loss: 0.0437 - accuracy: 0.9858 - val_loss: 0.0672 - val_accuracy: 0.9799\n",
      "Epoch 6/20\n",
      "469/469 [==============================] - 2s 4ms/step - loss: 0.0396 - accuracy: 0.9871 - val_loss: 0.0665 - val_accuracy: 0.9798\n",
      "Epoch 7/20\n",
      "469/469 [==============================] - 2s 4ms/step - loss: 0.0346 - accuracy: 0.9886 - val_loss: 0.0633 - val_accuracy: 0.9809\n",
      "Epoch 8/20\n",
      "469/469 [==============================] - 2s 4ms/step - loss: 0.0319 - accuracy: 0.9896 - val_loss: 0.0594 - val_accuracy: 0.9833\n",
      "Epoch 9/20\n",
      "469/469 [==============================] - 2s 5ms/step - loss: 0.0245 - accuracy: 0.9918 - val_loss: 0.0722 - val_accuracy: 0.9805\n",
      "Epoch 10/20\n",
      "469/469 [==============================] - 2s 5ms/step - loss: 0.0240 - accuracy: 0.9921 - val_loss: 0.0739 - val_accuracy: 0.9818\n",
      "Epoch 11/20\n",
      "469/469 [==============================] - 3s 6ms/step - loss: 0.0243 - accuracy: 0.9919 - val_loss: 0.0694 - val_accuracy: 0.9838\n",
      "Epoch 12/20\n",
      "469/469 [==============================] - 3s 6ms/step - loss: 0.0209 - accuracy: 0.9928 - val_loss: 0.0698 - val_accuracy: 0.9839\n",
      "Epoch 13/20\n",
      "469/469 [==============================] - 3s 6ms/step - loss: 0.0218 - accuracy: 0.9924 - val_loss: 0.0715 - val_accuracy: 0.9832\n",
      "Epoch 14/20\n",
      "469/469 [==============================] - 3s 6ms/step - loss: 0.0203 - accuracy: 0.9929 - val_loss: 0.0862 - val_accuracy: 0.9805\n",
      "Epoch 15/20\n",
      "469/469 [==============================] - 3s 6ms/step - loss: 0.0172 - accuracy: 0.9941 - val_loss: 0.0721 - val_accuracy: 0.9841\n",
      "Epoch 16/20\n",
      "469/469 [==============================] - 3s 6ms/step - loss: 0.0187 - accuracy: 0.9936 - val_loss: 0.0690 - val_accuracy: 0.9846\n",
      "Epoch 17/20\n",
      "469/469 [==============================] - 3s 6ms/step - loss: 0.0171 - accuracy: 0.9945 - val_loss: 0.0747 - val_accuracy: 0.9838\n",
      "Epoch 18/20\n",
      "469/469 [==============================] - 3s 6ms/step - loss: 0.0153 - accuracy: 0.9950 - val_loss: 0.0849 - val_accuracy: 0.9813\n",
      "Epoch 19/20\n",
      "469/469 [==============================] - 3s 6ms/step - loss: 0.0134 - accuracy: 0.9954 - val_loss: 0.0779 - val_accuracy: 0.9854\n",
      "Epoch 20/20\n",
      "469/469 [==============================] - 3s 6ms/step - loss: 0.0152 - accuracy: 0.9952 - val_loss: 0.0748 - val_accuracy: 0.9840\n",
      "Test loss: 0.07476039975881577\n",
      "Test accuracy: 0.984000027179718\n"
     ]
    }
   ],
   "source": [
    "batch_size = 128\n",
    "num_classes = 10\n",
    "epochs = 20\n",
    "\n",
    "\n",
    "\n",
    "y_train = keras.utils.to_categorical(y_train, num_classes)\n",
    "y_test = keras.utils.to_categorical(y_test, num_classes)\n",
    "\n",
    "model = Sequential()\n",
    "model.add(Dense(512, activation='relu', input_shape=(784,)))\n",
    "model.add(Dropout(0.2))\n",
    "model.add(Dense(512, activation='relu'))\n",
    "model.add(Dropout(0.2))\n",
    "model.add(Dense(10, activation='softmax'))\n",
    "\n",
    "model.summary()\n",
    "\n",
    "model.compile(loss='categorical_crossentropy',\n",
    "              optimizer=\"adam\",\n",
    "              metrics=['accuracy'])\n",
    "\n",
    "history = model.fit(x_train, y_train,\n",
    "                    batch_size=batch_size,\n",
    "                    epochs=epochs,\n",
    "                    verbose=1,\n",
    "                    validation_data=(x_test, y_test))\n",
    "baseline_score = model.evaluate(x_test, y_test, verbose=0)\n",
    "print('Test loss:', baseline_score[0])\n",
    "print('Test accuracy:', baseline_score[1])\n",
    "baseline_accuracy = baseline_score[1]"
   ]
  },
  {
   "cell_type": "code",
   "execution_count": 4,
   "metadata": {},
   "outputs": [
    {
     "data": {
      "text/plain": [
       "0.984000027179718"
      ]
     },
     "execution_count": 4,
     "metadata": {},
     "output_type": "execute_result"
    }
   ],
   "source": [
    "baseline_accuracy"
   ]
  },
  {
   "cell_type": "markdown",
   "metadata": {},
   "source": [
    "### <font color='purple'> Below, I am printing some images and their labels from the unaltered (baseline) dataset.</font>"
   ]
  },
  {
   "cell_type": "code",
   "execution_count": 5,
   "metadata": {},
   "outputs": [
    {
     "data": {
      "text/plain": [
       "((60000, 784), (10000, 784), (60000, 10), (10000, 10))"
      ]
     },
     "execution_count": 5,
     "metadata": {},
     "output_type": "execute_result"
    }
   ],
   "source": [
    "x_train.shape,x_test.shape, y_train.shape, y_test.shape\n"
   ]
  },
  {
   "cell_type": "code",
   "execution_count": 6,
   "metadata": {},
   "outputs": [],
   "source": [
    "import matplotlib.pyplot as  plt\n",
    "%matplotlib inline\n",
    "\n",
    "import numpy as np"
   ]
  },
  {
   "cell_type": "code",
   "execution_count": 7,
   "metadata": {},
   "outputs": [
    {
     "data": {
      "text/plain": [
       "<matplotlib.image.AxesImage at 0x156c88f70>"
      ]
     },
     "execution_count": 7,
     "metadata": {},
     "output_type": "execute_result"
    },
    {
     "data": {
      "image/png": "[encoded data removed]",
      "text/plain": [
       "<Figure size 640x480 with 1 Axes>"
      ]
     },
     "metadata": {},
     "output_type": "display_data"
    }
   ],
   "source": [
    "plt.imshow(x_train[0].reshape(28,28))"
   ]
  },
  {
   "cell_type": "code",
   "execution_count": 8,
   "metadata": {},
   "outputs": [
    {
     "data": {
      "text/plain": [
       "<matplotlib.image.AxesImage at 0x156d996c0>"
      ]
     },
     "execution_count": 8,
     "metadata": {},
     "output_type": "execute_result"
    },
    {
     "data": {
      "image/png": "[encoded data removed]",
      "text/plain": [
       "<Figure size 640x480 with 1 Axes>"
      ]
     },
     "metadata": {},
     "output_type": "display_data"
    }
   ],
   "source": [
    "plt.imshow(x_test[0].reshape(28,28))"
   ]
  },
  {
   "cell_type": "code",
   "execution_count": 9,
   "metadata": {
    "scrolled": true
   },
   "outputs": [
    {
     "data": {
      "text/plain": [
       "array([0, 0, 0, 0, 0, 1, 0, 0, 0, 0])"
      ]
     },
     "execution_count": 9,
     "metadata": {},
     "output_type": "execute_result"
    }
   ],
   "source": [
    "from numpy import argmax\n",
    "\n",
    "argmax(keras.utils.to_categorical(y_train[0], 10),axis=1)"
   ]
  },
  {
   "cell_type": "code",
   "execution_count": 10,
   "metadata": {},
   "outputs": [
    {
     "data": {
      "text/plain": [
       "array([0, 0, 0, 0, 0, 0, 0, 1, 0, 0])"
      ]
     },
     "execution_count": 10,
     "metadata": {},
     "output_type": "execute_result"
    }
   ],
   "source": [
    "argmax(keras.utils.to_categorical(y_test[0], 10),axis=1)"
   ]
  },
  {
   "cell_type": "markdown",
   "metadata": {},
   "source": [
    "### <font color='purple'> Adding noise here</font>"
   ]
  },
  {
   "cell_type": "code",
   "execution_count": 11,
   "metadata": {},
   "outputs": [],
   "source": [
    "scale = [0.1, 0.5, 1.0, 2.0, 4.0]"
   ]
  },
  {
   "cell_type": "code",
   "execution_count": 12,
   "metadata": {},
   "outputs": [],
   "source": [
    "noise_0_train = np.random.normal(scale=0.1, size=[60000, 784])\n",
    "noise_1_train = np.random.normal(scale=0.5, size=[60000, 784])\n",
    "noise_2_train = np.random.normal(scale=1.0, size=[60000, 784])\n",
    "noise_3_train = np.random.normal(scale=2.0, size=[60000, 784])\n",
    "noise_4_train = np.random.normal(scale=4.0, size=[60000, 784])\n",
    "\n",
    "noise_0_test = np.random.normal(scale=0.1, size=[10000, 784])\n",
    "noise_1_test = np.random.normal(scale=0.5, size=[10000, 784])\n",
    "noise_2_test = np.random.normal(scale=1.0, size=[10000, 784])\n",
    "noise_3_test = np.random.normal(scale=2.0, size=[10000, 784])\n",
    "noise_4_test = np.random.normal(scale=4.0, size=[10000, 784])"
   ]
  },
  {
   "cell_type": "code",
   "execution_count": 13,
   "metadata": {},
   "outputs": [],
   "source": [
    "x_train_n0 = x_train + noise_0_train\n",
    "x_train_n1 = x_train + noise_1_train\n",
    "x_train_n2 = x_train + noise_2_train\n",
    "x_train_n3 = x_train + noise_3_train\n",
    "x_train_n4 = x_train + noise_4_train\n",
    "\n",
    "x_test_n0 = x_test + noise_0_test\n",
    "x_test_n1 = x_test + noise_1_test\n",
    "x_test_n2 = x_test + noise_2_test\n",
    "x_test_n3 = x_test + noise_3_test\n",
    "x_test_n4 = x_test + noise_4_test"
   ]
  },
  {
   "cell_type": "markdown",
   "metadata": {},
   "source": [
    "### <font color='purple'> Inspecting noisy images here</font>"
   ]
  },
  {
   "cell_type": "code",
   "execution_count": 14,
   "metadata": {},
   "outputs": [
    {
     "data": {
      "text/plain": [
       "<matplotlib.image.AxesImage at 0x1680520b0>"
      ]
     },
     "execution_count": 14,
     "metadata": {},
     "output_type": "execute_result"
    },
    {
     "data": {
      "image/png": "[encoded data removed]",
      "text/plain": [
       "<Figure size 640x480 with 1 Axes>"
      ]
     },
     "metadata": {},
     "output_type": "display_data"
    }
   ],
   "source": [
    "plt.imshow(x_train_n0[0].reshape(28,28))"
   ]
  },
  {
   "cell_type": "code",
   "execution_count": 15,
   "metadata": {},
   "outputs": [
    {
     "data": {
      "text/plain": [
       "<matplotlib.image.AxesImage at 0x1680daec0>"
      ]
     },
     "execution_count": 15,
     "metadata": {},
     "output_type": "execute_result"
    },
    {
     "data": {
      "image/png": "[encoded data removed]",
      "text/plain": [
       "<Figure size 640x480 with 1 Axes>"
      ]
     },
     "metadata": {},
     "output_type": "display_data"
    }
   ],
   "source": [
    "plt.imshow(x_train_n1[0].reshape(28,28))"
   ]
  },
  {
   "cell_type": "code",
   "execution_count": 16,
   "metadata": {},
   "outputs": [
    {
     "data": {
      "text/plain": [
       "<matplotlib.image.AxesImage at 0x16bd17c70>"
      ]
     },
     "execution_count": 16,
     "metadata": {},
     "output_type": "execute_result"
    },
    {
     "data": {
      "image/png": "[encoded data removed]",
      "text/plain": [
       "<Figure size 640x480 with 1 Axes>"
      ]
     },
     "metadata": {},
     "output_type": "display_data"
    }
   ],
   "source": [
    "plt.imshow(x_train_n2[0].reshape(28,28))"
   ]
  },
  {
   "cell_type": "code",
   "execution_count": 17,
   "metadata": {},
   "outputs": [
    {
     "data": {
      "text/plain": [
       "<matplotlib.image.AxesImage at 0x16bcf6d10>"
      ]
     },
     "execution_count": 17,
     "metadata": {},
     "output_type": "execute_result"
    },
    {
     "data": {
      "image/png": "[encoded data removed]",
      "text/plain": [
       "<Figure size 640x480 with 1 Axes>"
      ]
     },
     "metadata": {},
     "output_type": "display_data"
    }
   ],
   "source": [
    "plt.imshow(x_train_n3[0].reshape(28,28))"
   ]
  },
  {
   "cell_type": "code",
   "execution_count": 18,
   "metadata": {},
   "outputs": [
    {
     "data": {
      "text/plain": [
       "<matplotlib.image.AxesImage at 0x16bd84250>"
      ]
     },
     "execution_count": 18,
     "metadata": {},
     "output_type": "execute_result"
    },
    {
     "data": {
      "image/png": "[encoded data removed]",
      "text/plain": [
       "<Figure size 640x480 with 1 Axes>"
      ]
     },
     "metadata": {},
     "output_type": "display_data"
    }
   ],
   "source": [
    "plt.imshow(x_train_n4[0].reshape(28,28))"
   ]
  },
  {
   "cell_type": "code",
   "execution_count": 19,
   "metadata": {},
   "outputs": [
    {
     "data": {
      "text/plain": [
       "<matplotlib.image.AxesImage at 0x16be37e80>"
      ]
     },
     "execution_count": 19,
     "metadata": {},
     "output_type": "execute_result"
    },
    {
     "data": {
      "image/png": "[encoded data removed]",
      "text/plain": [
       "<Figure size 640x480 with 1 Axes>"
      ]
     },
     "metadata": {},
     "output_type": "display_data"
    }
   ],
   "source": [
    "plt.imshow(x_test_n0[0].reshape(28,28))"
   ]
  },
  {
   "cell_type": "code",
   "execution_count": 20,
   "metadata": {},
   "outputs": [
    {
     "data": {
      "text/plain": [
       "<matplotlib.image.AxesImage at 0x16beb8fa0>"
      ]
     },
     "execution_count": 20,
     "metadata": {},
     "output_type": "execute_result"
    },
    {
     "data": {
      "image/png": "[encoded data removed]",
      "text/plain": [
       "<Figure size 640x480 with 1 Axes>"
      ]
     },
     "metadata": {},
     "output_type": "display_data"
    }
   ],
   "source": [
    "plt.imshow(x_test_n1[0].reshape(28,28))"
   ]
  },
  {
   "cell_type": "markdown",
   "metadata": {},
   "source": [
    "### <font color='purple'> I will use the following code chunks to train the NN with the different noise parameters (created above). I will also keep track of each accuracy score output, in respect to the noise parameters used during training.</font>"
   ]
  },
  {
   "cell_type": "code",
   "execution_count": 21,
   "metadata": {},
   "outputs": [
    {
     "name": "stdout",
     "output_type": "stream",
     "text": [
      "Epoch 1/20\n",
      "469/469 [==============================] - 2s 4ms/step - loss: 0.2699 - accuracy: 0.9173 - val_loss: 0.1269 - val_accuracy: 0.9609\n",
      "Epoch 2/20\n",
      "469/469 [==============================] - 2s 4ms/step - loss: 0.1006 - accuracy: 0.9686 - val_loss: 0.0850 - val_accuracy: 0.9720\n",
      "Epoch 3/20\n",
      "469/469 [==============================] - 2s 4ms/step - loss: 0.0602 - accuracy: 0.9813 - val_loss: 0.0887 - val_accuracy: 0.9723\n",
      "Epoch 4/20\n",
      "469/469 [==============================] - 2s 4ms/step - loss: 0.0421 - accuracy: 0.9865 - val_loss: 0.0863 - val_accuracy: 0.9739\n",
      "Epoch 5/20\n",
      "469/469 [==============================] - 2s 4ms/step - loss: 0.0327 - accuracy: 0.9888 - val_loss: 0.0832 - val_accuracy: 0.9756\n",
      "Epoch 6/20\n",
      "469/469 [==============================] - 2s 4ms/step - loss: 0.0279 - accuracy: 0.9908 - val_loss: 0.1033 - val_accuracy: 0.9727\n",
      "Epoch 7/20\n",
      "469/469 [==============================] - 2s 4ms/step - loss: 0.0235 - accuracy: 0.9920 - val_loss: 0.1002 - val_accuracy: 0.9745\n",
      "Epoch 8/20\n",
      "469/469 [==============================] - 2s 4ms/step - loss: 0.0209 - accuracy: 0.9930 - val_loss: 0.0948 - val_accuracy: 0.9766\n",
      "Epoch 9/20\n",
      "469/469 [==============================] - 2s 4ms/step - loss: 0.0187 - accuracy: 0.9940 - val_loss: 0.1013 - val_accuracy: 0.9760\n",
      "Epoch 10/20\n",
      "469/469 [==============================] - 2s 4ms/step - loss: 0.0171 - accuracy: 0.9942 - val_loss: 0.0955 - val_accuracy: 0.9772\n",
      "Epoch 11/20\n",
      "469/469 [==============================] - 2s 4ms/step - loss: 0.0178 - accuracy: 0.9942 - val_loss: 0.1097 - val_accuracy: 0.9740\n",
      "Epoch 12/20\n",
      "469/469 [==============================] - 2s 4ms/step - loss: 0.0140 - accuracy: 0.9953 - val_loss: 0.1185 - val_accuracy: 0.9754\n",
      "Epoch 13/20\n",
      "469/469 [==============================] - 2s 4ms/step - loss: 0.0145 - accuracy: 0.9956 - val_loss: 0.0950 - val_accuracy: 0.9792\n",
      "Epoch 14/20\n",
      "469/469 [==============================] - 2s 4ms/step - loss: 0.0151 - accuracy: 0.9951 - val_loss: 0.0931 - val_accuracy: 0.9777\n",
      "Epoch 15/20\n",
      "469/469 [==============================] - 2s 4ms/step - loss: 0.0134 - accuracy: 0.9952 - val_loss: 0.1022 - val_accuracy: 0.9782\n",
      "Epoch 16/20\n",
      "469/469 [==============================] - 2s 4ms/step - loss: 0.0154 - accuracy: 0.9952 - val_loss: 0.1300 - val_accuracy: 0.9733\n",
      "Epoch 17/20\n",
      "469/469 [==============================] - 2s 4ms/step - loss: 0.0123 - accuracy: 0.9961 - val_loss: 0.1042 - val_accuracy: 0.9774\n",
      "Epoch 18/20\n",
      "469/469 [==============================] - 2s 4ms/step - loss: 0.0126 - accuracy: 0.9959 - val_loss: 0.1119 - val_accuracy: 0.9774\n",
      "Epoch 19/20\n",
      "469/469 [==============================] - 2s 4ms/step - loss: 0.0104 - accuracy: 0.9966 - val_loss: 0.1226 - val_accuracy: 0.9765\n",
      "Epoch 20/20\n",
      "469/469 [==============================] - 2s 4ms/step - loss: 0.0095 - accuracy: 0.9970 - val_loss: 0.1057 - val_accuracy: 0.9803\n",
      "Epoch 1/20\n",
      "469/469 [==============================] - 2s 4ms/step - loss: 0.5592 - accuracy: 0.8181 - val_loss: 0.3169 - val_accuracy: 0.8976\n",
      "Epoch 2/20\n",
      "469/469 [==============================] - 2s 4ms/step - loss: 0.2448 - accuracy: 0.9211 - val_loss: 0.2734 - val_accuracy: 0.9121\n",
      "Epoch 3/20\n",
      "469/469 [==============================] - 2s 4ms/step - loss: 0.1337 - accuracy: 0.9565 - val_loss: 0.2877 - val_accuracy: 0.9135\n",
      "Epoch 4/20\n",
      "469/469 [==============================] - 2s 4ms/step - loss: 0.0789 - accuracy: 0.9741 - val_loss: 0.3182 - val_accuracy: 0.9139\n",
      "Epoch 5/20\n",
      "469/469 [==============================] - 2s 4ms/step - loss: 0.0547 - accuracy: 0.9815 - val_loss: 0.3444 - val_accuracy: 0.9159\n",
      "Epoch 6/20\n",
      "469/469 [==============================] - 2s 4ms/step - loss: 0.0455 - accuracy: 0.9844 - val_loss: 0.3522 - val_accuracy: 0.9186\n",
      "Epoch 7/20\n",
      "469/469 [==============================] - 2s 4ms/step - loss: 0.0430 - accuracy: 0.9851 - val_loss: 0.3699 - val_accuracy: 0.9181\n",
      "Epoch 8/20\n",
      "469/469 [==============================] - 2s 4ms/step - loss: 0.0339 - accuracy: 0.9886 - val_loss: 0.3858 - val_accuracy: 0.9211\n",
      "Epoch 9/20\n",
      "469/469 [==============================] - 2s 4ms/step - loss: 0.0365 - accuracy: 0.9876 - val_loss: 0.3695 - val_accuracy: 0.9233\n",
      "Epoch 10/20\n",
      "469/469 [==============================] - 2s 4ms/step - loss: 0.0286 - accuracy: 0.9902 - val_loss: 0.4104 - val_accuracy: 0.9213\n",
      "Epoch 11/20\n",
      "469/469 [==============================] - 2s 4ms/step - loss: 0.0332 - accuracy: 0.9890 - val_loss: 0.4063 - val_accuracy: 0.9202\n",
      "Epoch 12/20\n",
      "469/469 [==============================] - 2s 4ms/step - loss: 0.0245 - accuracy: 0.9920 - val_loss: 0.4423 - val_accuracy: 0.9170\n",
      "Epoch 13/20\n",
      "469/469 [==============================] - 2s 4ms/step - loss: 0.0296 - accuracy: 0.9898 - val_loss: 0.4514 - val_accuracy: 0.9212\n",
      "Epoch 14/20\n",
      "469/469 [==============================] - 2s 4ms/step - loss: 0.0279 - accuracy: 0.9910 - val_loss: 0.4670 - val_accuracy: 0.9186\n",
      "Epoch 15/20\n",
      "469/469 [==============================] - 2s 5ms/step - loss: 0.0245 - accuracy: 0.9921 - val_loss: 0.4415 - val_accuracy: 0.9218\n",
      "Epoch 16/20\n",
      "469/469 [==============================] - 2s 4ms/step - loss: 0.0231 - accuracy: 0.9922 - val_loss: 0.4831 - val_accuracy: 0.9206\n",
      "Epoch 17/20\n",
      "469/469 [==============================] - 2s 4ms/step - loss: 0.0236 - accuracy: 0.9920 - val_loss: 0.4858 - val_accuracy: 0.9217\n",
      "Epoch 18/20\n",
      "469/469 [==============================] - 2s 5ms/step - loss: 0.0215 - accuracy: 0.9929 - val_loss: 0.5139 - val_accuracy: 0.9204\n",
      "Epoch 19/20\n",
      "469/469 [==============================] - 2s 4ms/step - loss: 0.0224 - accuracy: 0.9925 - val_loss: 0.5171 - val_accuracy: 0.9190\n",
      "Epoch 20/20\n",
      "469/469 [==============================] - 2s 4ms/step - loss: 0.0252 - accuracy: 0.9917 - val_loss: 0.5026 - val_accuracy: 0.9195\n",
      "Epoch 1/20\n",
      "469/469 [==============================] - 2s 4ms/step - loss: 1.0849 - accuracy: 0.6294 - val_loss: 0.7740 - val_accuracy: 0.7455\n",
      "Epoch 2/20\n",
      "469/469 [==============================] - 2s 4ms/step - loss: 0.6781 - accuracy: 0.7709 - val_loss: 0.7054 - val_accuracy: 0.7644\n",
      "Epoch 3/20\n",
      "469/469 [==============================] - 2s 4ms/step - loss: 0.4827 - accuracy: 0.8374 - val_loss: 0.7134 - val_accuracy: 0.7678\n",
      "Epoch 4/20\n",
      "469/469 [==============================] - 2s 4ms/step - loss: 0.3319 - accuracy: 0.8887 - val_loss: 0.7507 - val_accuracy: 0.7671\n",
      "Epoch 5/20\n",
      "469/469 [==============================] - 2s 4ms/step - loss: 0.2360 - accuracy: 0.9187 - val_loss: 0.8337 - val_accuracy: 0.7661\n",
      "Epoch 6/20\n",
      "469/469 [==============================] - 2s 4ms/step - loss: 0.1746 - accuracy: 0.9398 - val_loss: 0.9125 - val_accuracy: 0.7670\n",
      "Epoch 7/20\n",
      "469/469 [==============================] - 2s 4ms/step - loss: 0.1406 - accuracy: 0.9514 - val_loss: 0.9948 - val_accuracy: 0.7627\n",
      "Epoch 8/20\n",
      "469/469 [==============================] - 2s 4ms/step - loss: 0.1274 - accuracy: 0.9554 - val_loss: 1.0365 - val_accuracy: 0.7652\n",
      "Epoch 9/20\n",
      "469/469 [==============================] - 2s 4ms/step - loss: 0.1143 - accuracy: 0.9605 - val_loss: 1.0808 - val_accuracy: 0.7613\n",
      "Epoch 10/20\n",
      "469/469 [==============================] - 2s 4ms/step - loss: 0.1025 - accuracy: 0.9653 - val_loss: 1.1169 - val_accuracy: 0.7614\n",
      "Epoch 11/20\n",
      "469/469 [==============================] - 2s 4ms/step - loss: 0.0955 - accuracy: 0.9671 - val_loss: 1.1584 - val_accuracy: 0.7603\n",
      "Epoch 12/20\n",
      "469/469 [==============================] - 2s 4ms/step - loss: 0.0896 - accuracy: 0.9696 - val_loss: 1.1972 - val_accuracy: 0.7647\n",
      "Epoch 13/20\n",
      "469/469 [==============================] - 2s 4ms/step - loss: 0.0853 - accuracy: 0.9717 - val_loss: 1.2102 - val_accuracy: 0.7614\n",
      "Epoch 14/20\n",
      "469/469 [==============================] - 2s 4ms/step - loss: 0.0847 - accuracy: 0.9722 - val_loss: 1.2476 - val_accuracy: 0.7643\n",
      "Epoch 15/20\n",
      "469/469 [==============================] - 2s 4ms/step - loss: 0.0751 - accuracy: 0.9745 - val_loss: 1.3433 - val_accuracy: 0.7605\n",
      "Epoch 16/20\n",
      "469/469 [==============================] - 2s 4ms/step - loss: 0.0762 - accuracy: 0.9747 - val_loss: 1.3385 - val_accuracy: 0.7608\n",
      "Epoch 17/20\n",
      "469/469 [==============================] - 2s 4ms/step - loss: 0.0776 - accuracy: 0.9742 - val_loss: 1.3746 - val_accuracy: 0.7612\n",
      "Epoch 18/20\n",
      "469/469 [==============================] - 2s 4ms/step - loss: 0.0746 - accuracy: 0.9758 - val_loss: 1.3880 - val_accuracy: 0.7596\n",
      "Epoch 19/20\n",
      "469/469 [==============================] - 2s 4ms/step - loss: 0.0674 - accuracy: 0.9774 - val_loss: 1.4222 - val_accuracy: 0.7596\n",
      "Epoch 20/20\n",
      "469/469 [==============================] - 2s 4ms/step - loss: 0.0680 - accuracy: 0.9773 - val_loss: 1.4402 - val_accuracy: 0.7625\n",
      "Epoch 1/20\n",
      "469/469 [==============================] - 2s 4ms/step - loss: 1.8635 - accuracy: 0.3509 - val_loss: 1.5754 - val_accuracy: 0.4531\n",
      "Epoch 2/20\n",
      "469/469 [==============================] - 2s 4ms/step - loss: 1.4782 - accuracy: 0.4891 - val_loss: 1.5430 - val_accuracy: 0.4606\n",
      "Epoch 3/20\n",
      "469/469 [==============================] - 2s 4ms/step - loss: 1.3026 - accuracy: 0.5500 - val_loss: 1.5724 - val_accuracy: 0.4587\n",
      "Epoch 4/20\n",
      "469/469 [==============================] - 2s 4ms/step - loss: 1.1337 - accuracy: 0.6077 - val_loss: 1.6141 - val_accuracy: 0.4482\n",
      "Epoch 5/20\n",
      "469/469 [==============================] - 2s 4ms/step - loss: 0.9708 - accuracy: 0.6623 - val_loss: 1.6877 - val_accuracy: 0.4429\n",
      "Epoch 6/20\n",
      "469/469 [==============================] - 2s 4ms/step - loss: 0.8160 - accuracy: 0.7164 - val_loss: 1.7769 - val_accuracy: 0.4416\n",
      "Epoch 7/20\n",
      "469/469 [==============================] - 2s 4ms/step - loss: 0.6908 - accuracy: 0.7585 - val_loss: 1.9059 - val_accuracy: 0.4339\n",
      "Epoch 8/20\n",
      "469/469 [==============================] - 2s 4ms/step - loss: 0.5978 - accuracy: 0.7919 - val_loss: 1.9859 - val_accuracy: 0.4288\n",
      "Epoch 9/20\n",
      "469/469 [==============================] - 2s 4ms/step - loss: 0.5262 - accuracy: 0.8172 - val_loss: 2.1358 - val_accuracy: 0.4242\n",
      "Epoch 10/20\n",
      "469/469 [==============================] - 2s 4ms/step - loss: 0.4722 - accuracy: 0.8364 - val_loss: 2.2296 - val_accuracy: 0.4238\n",
      "Epoch 11/20\n",
      "469/469 [==============================] - 2s 4ms/step - loss: 0.4272 - accuracy: 0.8508 - val_loss: 2.3305 - val_accuracy: 0.4249\n",
      "Epoch 12/20\n",
      "469/469 [==============================] - 2s 4ms/step - loss: 0.3978 - accuracy: 0.8616 - val_loss: 2.4168 - val_accuracy: 0.4191\n",
      "Epoch 13/20\n",
      "469/469 [==============================] - 2s 4ms/step - loss: 0.3776 - accuracy: 0.8702 - val_loss: 2.4645 - val_accuracy: 0.4224\n",
      "Epoch 14/20\n",
      "469/469 [==============================] - 2s 4ms/step - loss: 0.3486 - accuracy: 0.8805 - val_loss: 2.6220 - val_accuracy: 0.4229\n",
      "Epoch 15/20\n",
      "469/469 [==============================] - 2s 4ms/step - loss: 0.3393 - accuracy: 0.8841 - val_loss: 2.6568 - val_accuracy: 0.4189\n",
      "Epoch 16/20\n",
      "469/469 [==============================] - 2s 4ms/step - loss: 0.3195 - accuracy: 0.8907 - val_loss: 2.7237 - val_accuracy: 0.4172\n",
      "Epoch 17/20\n",
      "469/469 [==============================] - 2s 4ms/step - loss: 0.3107 - accuracy: 0.8934 - val_loss: 2.7201 - val_accuracy: 0.4164\n",
      "Epoch 18/20\n",
      "469/469 [==============================] - 2s 4ms/step - loss: 0.2949 - accuracy: 0.8998 - val_loss: 2.7773 - val_accuracy: 0.4228\n",
      "Epoch 19/20\n",
      "469/469 [==============================] - 2s 4ms/step - loss: 0.2817 - accuracy: 0.9035 - val_loss: 2.7809 - val_accuracy: 0.4176\n",
      "Epoch 20/20\n",
      "469/469 [==============================] - 2s 4ms/step - loss: 0.2787 - accuracy: 0.9049 - val_loss: 2.8876 - val_accuracy: 0.4209\n",
      "Epoch 1/20\n",
      "469/469 [==============================] - 2s 4ms/step - loss: 2.4354 - accuracy: 0.1355 - val_loss: 2.2006 - val_accuracy: 0.1954\n",
      "Epoch 2/20\n",
      "469/469 [==============================] - 2s 4ms/step - loss: 2.1355 - accuracy: 0.2288 - val_loss: 2.1284 - val_accuracy: 0.2388\n",
      "Epoch 3/20\n",
      "469/469 [==============================] - 2s 4ms/step - loss: 2.0060 - accuracy: 0.2862 - val_loss: 2.1275 - val_accuracy: 0.2328\n",
      "Epoch 4/20\n",
      "469/469 [==============================] - 2s 4ms/step - loss: 1.8910 - accuracy: 0.3327 - val_loss: 2.1412 - val_accuracy: 0.2312\n",
      "Epoch 5/20\n",
      "469/469 [==============================] - 2s 4ms/step - loss: 1.7761 - accuracy: 0.3749 - val_loss: 2.1874 - val_accuracy: 0.2241\n",
      "Epoch 6/20\n",
      "469/469 [==============================] - 2s 4ms/step - loss: 1.6585 - accuracy: 0.4198 - val_loss: 2.2088 - val_accuracy: 0.2139\n",
      "Epoch 7/20\n",
      "469/469 [==============================] - 2s 4ms/step - loss: 1.5457 - accuracy: 0.4615 - val_loss: 2.2769 - val_accuracy: 0.2160\n",
      "Epoch 8/20\n",
      "469/469 [==============================] - 2s 4ms/step - loss: 1.4369 - accuracy: 0.4997 - val_loss: 2.3244 - val_accuracy: 0.2105\n",
      "Epoch 9/20\n",
      "469/469 [==============================] - 2s 4ms/step - loss: 1.3404 - accuracy: 0.5346 - val_loss: 2.3666 - val_accuracy: 0.2073\n",
      "Epoch 10/20\n",
      "469/469 [==============================] - 2s 4ms/step - loss: 1.2501 - accuracy: 0.5706 - val_loss: 2.4391 - val_accuracy: 0.2068\n",
      "Epoch 11/20\n",
      "469/469 [==============================] - 2s 4ms/step - loss: 1.1847 - accuracy: 0.5918 - val_loss: 2.4867 - val_accuracy: 0.2058\n",
      "Epoch 12/20\n",
      "469/469 [==============================] - 2s 4ms/step - loss: 1.1113 - accuracy: 0.6167 - val_loss: 2.5672 - val_accuracy: 0.2020\n",
      "Epoch 13/20\n",
      "469/469 [==============================] - 2s 4ms/step - loss: 1.0562 - accuracy: 0.6364 - val_loss: 2.5634 - val_accuracy: 0.1943\n",
      "Epoch 14/20\n",
      "469/469 [==============================] - 2s 4ms/step - loss: 0.9990 - accuracy: 0.6565 - val_loss: 2.6080 - val_accuracy: 0.1963\n",
      "Epoch 15/20\n",
      "469/469 [==============================] - 2s 4ms/step - loss: 0.9606 - accuracy: 0.6696 - val_loss: 2.7078 - val_accuracy: 0.1922\n",
      "Epoch 16/20\n",
      "469/469 [==============================] - 2s 4ms/step - loss: 0.9205 - accuracy: 0.6820 - val_loss: 2.7123 - val_accuracy: 0.1945\n",
      "Epoch 17/20\n",
      "469/469 [==============================] - 2s 4ms/step - loss: 0.8921 - accuracy: 0.6958 - val_loss: 2.7647 - val_accuracy: 0.1901\n",
      "Epoch 18/20\n",
      "469/469 [==============================] - 2s 4ms/step - loss: 0.8674 - accuracy: 0.7040 - val_loss: 2.8086 - val_accuracy: 0.1954\n",
      "Epoch 19/20\n",
      "469/469 [==============================] - 2s 4ms/step - loss: 0.8362 - accuracy: 0.7152 - val_loss: 2.8009 - val_accuracy: 0.1962\n",
      "Epoch 20/20\n",
      "469/469 [==============================] - 2s 4ms/step - loss: 0.7993 - accuracy: 0.7268 - val_loss: 2.8656 - val_accuracy: 0.2001\n"
     ]
    }
   ],
   "source": [
    "batch_size = 128\n",
    "num_classes = 10\n",
    "epochs = 20\n",
    "\n",
    "x_train_noisy = [x_train_n0, x_train_n1, x_train_n2, x_train_n3, x_train_n4]\n",
    "x_test_noisy = [x_test_n0, x_test_n1, x_test_n2, x_test_n3, x_test_n4]\n",
    "\n",
    "noisy_scores = []\n",
    "\n",
    "\n",
    "    \n",
    "for i in [0,1,2,3,4]:\n",
    "    model_noisy = Sequential()\n",
    "    model_noisy.add(Dense(512, activation='relu', input_shape=(784,)))\n",
    "    model_noisy.add(Dropout(0.2))\n",
    "    model_noisy.add(Dense(512, activation='relu'))\n",
    "    model_noisy.add(Dropout(0.2))\n",
    "    model_noisy.add(Dense(10, activation='softmax'))\n",
    "\n",
    "   \n",
    "\n",
    "    model_noisy.compile(loss='categorical_crossentropy',\n",
    "            optimizer=\"adam\",\n",
    "            metrics=['accuracy'])\n",
    "\n",
    "    history_noisy = model_noisy.fit(x_train_noisy[i], y_train,\n",
    "                batch_size=batch_size,\n",
    "                epochs=epochs,\n",
    "                verbose=1,\n",
    "                validation_data=(x_test_noisy[i], y_test))\n",
    "    score_noisy = model_noisy.evaluate(x_test_noisy[i], y_test, verbose=0)\n",
    "        \n",
    "        \n",
    "    noisy_scores.append(score_noisy[1])\n",
    "\n"
   ]
  },
  {
   "cell_type": "code",
   "execution_count": 22,
   "metadata": {},
   "outputs": [
    {
     "data": {
      "text/plain": [
       "(0.984000027179718,\n",
       " [0.9803000092506409,\n",
       "  0.9194999933242798,\n",
       "  0.762499988079071,\n",
       "  0.42089998722076416,\n",
       "  0.20010000467300415])"
      ]
     },
     "execution_count": 22,
     "metadata": {},
     "output_type": "execute_result"
    }
   ],
   "source": [
    "baseline_accuracy, noisy_scores"
   ]
  },
  {
   "cell_type": "code",
   "execution_count": 24,
   "metadata": {},
   "outputs": [
    {
     "data": {
      "text/plain": [
       "([<matplotlib.axis.XTick at 0x16bee2d40>,\n",
       "  <matplotlib.axis.XTick at 0x16bee2980>,\n",
       "  <matplotlib.axis.XTick at 0x16bf2cf10>,\n",
       "  <matplotlib.axis.XTick at 0x177aaacb0>,\n",
       "  <matplotlib.axis.XTick at 0x177aa9000>],\n",
       " [Text(0.1, 0, '0.1'),\n",
       "  Text(0.5, 0, '0.5'),\n",
       "  Text(1.0, 0, '1.0'),\n",
       "  Text(2.0, 0, '2.0'),\n",
       "  Text(4.0, 0, '4.0')])"
      ]
     },
     "execution_count": 24,
     "metadata": {},
     "output_type": "execute_result"
    },
    {
     "data": {
      "image/png": "[encoded data removed]",
      "text/plain": [
       "<Figure size 640x480 with 1 Axes>"
      ]
     },
     "metadata": {},
     "output_type": "display_data"
    }
   ],
   "source": [
    "plt.figure()\n",
    "plt.xlabel('Scale Parameter Setting (np.random.normal)')\n",
    "plt.ylabel('Accuracy Score')\n",
    "plt.plot(scale, noisy_scores)\n",
    "plt.axhline(baseline_accuracy, color='purple') # baseline accuracy score\n",
    "plt.title(\"NN Accuracy Scores for different levels of noise\")\n",
    "plt.xticks(ticks=scale)"
   ]
  },
  {
   "cell_type": "markdown",
   "metadata": {},
   "source": [
    "### <font color='purple'> The purple, horizontal line, in the plot above represents the baseline (unmodified data's) accuracy score."
   ]
  },
  {
   "cell_type": "code",
   "execution_count": null,
   "metadata": {},
   "outputs": [],
   "source": []
  }
 ],
 "metadata": {
  "kernelspec": {
   "display_name": "Python 3 (ipykernel)",
   "language": "python",
   "name": "python3"
  },
  "language_info": {
   "codemirror_mode": {
    "name": "ipython",
    "version": 3
   },
   "file_extension": ".py",
   "mimetype": "text/x-python",
   "name": "python",
   "nbconvert_exporter": "python",
   "pygments_lexer": "ipython3",
   "version": "3.10.9"
  }
 },
 "nbformat": 4,
 "nbformat_minor": 2
}
