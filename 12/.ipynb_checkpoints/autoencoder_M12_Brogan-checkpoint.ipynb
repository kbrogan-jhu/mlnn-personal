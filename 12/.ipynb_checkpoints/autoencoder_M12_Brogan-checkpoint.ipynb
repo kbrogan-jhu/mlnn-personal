{
 "cells": [
  {
   "cell_type": "markdown",
   "metadata": {},
   "source": [
    "## Assignment is below at the bottom"
   ]
  },
  {
   "cell_type": "markdown",
   "metadata": {},
   "source": [
    "Video 13.1\n",
    "https://www.youtube.com/watch?v=kIGHE7Cfe1s\n",
    "\n",
    "Video 13.2\n",
    "https://www.youtube.com/watch?v=Rm9bJcDd1KU\n",
    "\n",
    "Video 13.3\n",
    "https://youtu.be/6HjZk-3LsjE"
   ]
  },
  {
   "cell_type": "code",
   "execution_count": null,
   "metadata": {},
   "outputs": [],
   "source": [
    "from keras.callbacks import TensorBoard\n",
    "from keras.layers import Input, Dense\n",
    "from keras.models import Model\n",
    "from keras.datasets import mnist\n",
    "import numpy as np\n",
    "\n",
    "(xtrain, ytrain), (xtest, ytest) = mnist.load_data()\n",
    "\n",
    "xtrain = xtrain.astype('float32') / 255.\n",
    "xtest = xtest.astype('float32') / 255.\n",
    "xtrain = xtrain.reshape((len(xtrain), np.prod(xtrain.shape[1:])))\n",
    "xtest = xtest.reshape((len(xtest), np.prod(xtest.shape[1:])))\n",
    "xtrain.shape, xtest.shape"
   ]
  },
  {
   "cell_type": "code",
   "execution_count": null,
   "metadata": {},
   "outputs": [],
   "source": [
    "\n",
    "# this is the size of our encoded representations\n",
    "encoding_dim = 32  # 32 floats -> compression of factor 24.5, assuming the input is 784 floats\n",
    "\n",
    "# this is our input placeholder\n",
    "x = input_img = Input(shape=(784,))\n",
    "# \"encoded\" is the encoded representation of the input\n",
    "x = Dense(256, activation='relu')(x)\n",
    "x = Dense(128, activation='relu')(x)\n",
    "encoded = Dense(encoding_dim, activation='relu')(x)\n",
    "\n",
    "\n",
    "# \"decoded\" is the lossy reconstruction of the input\n",
    "x = Dense(128, activation='relu')(encoded)\n",
    "x = Dense(256, activation='relu')(x)\n",
    "decoded = Dense(784, activation='sigmoid')(x)\n",
    "\n",
    "# this model maps an input to its reconstruction\n",
    "autoencoder = Model(input_img, decoded)\n",
    "\n",
    "encoder = Model(input_img, encoded)\n",
    "\n",
    "# create a placeholder for an encoded (32-dimensional) input\n",
    "encoded_input = Input(shape=(encoding_dim,))\n",
    "# retrieve the last layer of the autoencoder model\n",
    "dcd1 = autoencoder.layers[-1]\n",
    "dcd2 = autoencoder.layers[-2]\n",
    "dcd3 = autoencoder.layers[-3]\n",
    "\n",
    "# create the decoder model\n",
    "decoder = Model(encoded_input, dcd1(dcd2(dcd3(encoded_input))))"
   ]
  },
  {
   "cell_type": "code",
   "execution_count": null,
   "metadata": {},
   "outputs": [],
   "source": [
    "autoencoder.compile(optimizer='adam', loss='binary_crossentropy')"
   ]
  },
  {
   "cell_type": "code",
   "execution_count": null,
   "metadata": {},
   "outputs": [],
   "source": [
    "autoencoder.summary()"
   ]
  },
  {
   "cell_type": "code",
   "execution_count": null,
   "metadata": {},
   "outputs": [],
   "source": [
    "autoencoder.fit(xtrain, xtrain,\n",
    "                epochs=100,\n",
    "                batch_size=256,\n",
    "                shuffle=True,\n",
    "                validation_data=(xtest, xtest),\n",
    "                #callbacks=[TensorBoard(log_dir='/tmp/autoencoder')])                \n",
    "               )"
   ]
  },
  {
   "cell_type": "code",
   "execution_count": null,
   "metadata": {},
   "outputs": [],
   "source": [
    "encoded_imgs = encoder.predict(xtest)\n",
    "decoded_imgs = decoder.predict(encoded_imgs)\n",
    "import matplotlib.pyplot as plt\n",
    "\n",
    "n = 20  # how many digits we will display\n",
    "plt.figure(figsize=(40, 4))\n",
    "for i in range(n):\n",
    "    # display original\n",
    "    ax = plt.subplot(2, n, i + 1)\n",
    "    plt.imshow(xtest[i].reshape(28, 28))\n",
    "    plt.gray()\n",
    "    ax.get_xaxis().set_visible(False)\n",
    "    ax.get_yaxis().set_visible(False)\n",
    "\n",
    "    # display reconstruction\n",
    "    ax = plt.subplot(2, n, i + 1 + n)\n",
    "    plt.imshow(decoded_imgs[i].reshape(28, 28))\n",
    "    plt.gray()\n",
    "    ax.get_xaxis().set_visible(False)\n",
    "    ax.get_yaxis().set_visible(False)\n",
    "plt.show()"
   ]
  },
  {
   "cell_type": "code",
   "execution_count": null,
   "metadata": {
    "scrolled": false
   },
   "outputs": [],
   "source": [
    "encoded_imgs.shape"
   ]
  },
  {
   "cell_type": "code",
   "execution_count": null,
   "metadata": {},
   "outputs": [],
   "source": [
    "noise = np.random.normal(20,4, (4,4))\n",
    "noise_preds = decoder.predict(noise)"
   ]
  },
  {
   "cell_type": "code",
   "execution_count": null,
   "metadata": {
    "scrolled": false
   },
   "outputs": [],
   "source": [
    "plt.imshow(noise_preds[1].reshape(28,28))"
   ]
  },
  {
   "cell_type": "code",
   "execution_count": null,
   "metadata": {},
   "outputs": [],
   "source": [
    "np.max(encoded_imgs)"
   ]
  },
  {
   "cell_type": "code",
   "execution_count": null,
   "metadata": {},
   "outputs": [],
   "source": [
    "encoded_imgs"
   ]
  },
  {
   "cell_type": "code",
   "execution_count": null,
   "metadata": {},
   "outputs": [],
   "source": [
    "%matplotlib inline"
   ]
  },
  {
   "cell_type": "code",
   "execution_count": null,
   "metadata": {},
   "outputs": [],
   "source": [
    "plt.scatter(encoded_imgs[:,1], encoded_imgs[:,0], s=1, c=ytest, cmap='rainbow')\n",
    "# plt.show()"
   ]
  },
  {
   "cell_type": "code",
   "execution_count": null,
   "metadata": {},
   "outputs": [],
   "source": [
    "plt.scatter(encoded_imgs[:,1], encoded_imgs[:,3], s=1, c=ytest, cmap='rainbow')\n",
    "# plt.show()"
   ]
  },
  {
   "cell_type": "code",
   "execution_count": null,
   "metadata": {},
   "outputs": [],
   "source": [
    "plt.scatter(encoded_imgs[:,1], encoded_imgs[:,2], s=1, c=ytest, cmap='rainbow')\n",
    "# plt.show()"
   ]
  },
  {
   "cell_type": "code",
   "execution_count": null,
   "metadata": {},
   "outputs": [],
   "source": [
    "from mpl_toolkits.mplot3d import Axes3D\n",
    "fig = plt.figure()\n",
    "ax = fig.add_subplot(111, projection='3d')\n",
    "ax.scatter(encoded_imgs[:,1], encoded_imgs[:,2], encoded_imgs[:,3], c=ytest, cmap='rainbow', s=1)"
   ]
  },
  {
   "cell_type": "markdown",
   "metadata": {
    "collapsed": true
   },
   "source": [
    "#### <font color='red'>_______________________________________________________________________________________________\n",
    "\n",
    "#### <font color='red'>_______________________________________________________________________________________________</font>"
   ]
  },
  {
   "cell_type": "markdown",
   "metadata": {},
   "source": [
    "# Assignment"
   ]
  },
  {
   "cell_type": "markdown",
   "metadata": {
    "collapsed": true
   },
   "source": [
    "\n",
    "### <font color='purple'> 1. change the `encoding_dim` through various values (`range(2,18,2)` and save the loss you can get. Plot the 8 pairs of dimensions vs loss on a scatter plot</font>\n"
   ]
  },
  {
   "cell_type": "code",
   "execution_count": 1,
   "metadata": {},
   "outputs": [
    {
     "data": {
      "text/plain": [
       "((60000, 784), (10000, 784))"
      ]
     },
     "execution_count": 1,
     "metadata": {},
     "output_type": "execute_result"
    }
   ],
   "source": [
    "from keras.callbacks import TensorBoard\n",
    "from keras.layers import Input, Dense\n",
    "from keras.models import Model\n",
    "from keras.datasets import mnist\n",
    "import numpy as np\n",
    "\n",
    "(xtrain, ytrain), (xtest, ytest) = mnist.load_data()\n",
    "\n",
    "xtrain = xtrain.astype('float32') / 255.\n",
    "xtest = xtest.astype('float32') / 255.\n",
    "xtrain = xtrain.reshape((len(xtrain), np.prod(xtrain.shape[1:])))\n",
    "xtest = xtest.reshape((len(xtest), np.prod(xtest.shape[1:])))\n",
    "xtrain.shape, xtest.shape"
   ]
  },
  {
   "cell_type": "code",
   "execution_count": 7,
   "metadata": {},
   "outputs": [
    {
     "name": "stdout",
     "output_type": "stream",
     "text": [
      "Epoch 1/100\n",
      "235/235 [==============================] - 2s 6ms/step - loss: 0.2654 - val_loss: 0.2269\n",
      "Epoch 2/100\n",
      "235/235 [==============================] - 1s 6ms/step - loss: 0.2178 - val_loss: 0.2103\n",
      "Epoch 3/100\n",
      "235/235 [==============================] - 1s 6ms/step - loss: 0.2081 - val_loss: 0.2043\n",
      "Epoch 4/100\n",
      "235/235 [==============================] - 1s 6ms/step - loss: 0.2018 - val_loss: 0.1982\n",
      "Epoch 5/100\n",
      "235/235 [==============================] - 1s 6ms/step - loss: 0.1958 - val_loss: 0.1939\n",
      "Epoch 6/100\n",
      "235/235 [==============================] - 1s 6ms/step - loss: 0.1923 - val_loss: 0.1910\n",
      "Epoch 7/100\n",
      "235/235 [==============================] - 1s 6ms/step - loss: 0.1898 - val_loss: 0.1894\n",
      "Epoch 8/100\n",
      "173/235 [=====================>........] - ETA: 0s - loss: 0.1881"
     ]
    },
    {
     "ename": "KeyboardInterrupt",
     "evalue": "",
     "output_type": "error",
     "traceback": [
      "\u001b[0;31m---------------------------------------------------------------------------\u001b[0m",
      "\u001b[0;31mKeyboardInterrupt\u001b[0m                         Traceback (most recent call last)",
      "Cell \u001b[0;32mIn[7], line 18\u001b[0m\n\u001b[1;32m     14\u001b[0m autoencoder \u001b[38;5;241m=\u001b[39m Model(input_img, decoded)\n\u001b[1;32m     16\u001b[0m autoencoder\u001b[38;5;241m.\u001b[39mcompile(optimizer\u001b[38;5;241m=\u001b[39m\u001b[38;5;124m'\u001b[39m\u001b[38;5;124madam\u001b[39m\u001b[38;5;124m'\u001b[39m, loss\u001b[38;5;241m=\u001b[39m\u001b[38;5;124m'\u001b[39m\u001b[38;5;124mbinary_crossentropy\u001b[39m\u001b[38;5;124m'\u001b[39m)\n\u001b[0;32m---> 18\u001b[0m \u001b[43mautoencoder\u001b[49m\u001b[38;5;241;43m.\u001b[39;49m\u001b[43mfit\u001b[49m\u001b[43m(\u001b[49m\u001b[43mxtrain\u001b[49m\u001b[43m,\u001b[49m\u001b[43m \u001b[49m\u001b[43mxtrain\u001b[49m\u001b[43m,\u001b[49m\n\u001b[1;32m     19\u001b[0m \u001b[43m            \u001b[49m\u001b[43mepochs\u001b[49m\u001b[38;5;241;43m=\u001b[39;49m\u001b[38;5;241;43m100\u001b[39;49m\u001b[43m,\u001b[49m\n\u001b[1;32m     20\u001b[0m \u001b[43m            \u001b[49m\u001b[43mbatch_size\u001b[49m\u001b[38;5;241;43m=\u001b[39;49m\u001b[38;5;241;43m256\u001b[39;49m\u001b[43m,\u001b[49m\n\u001b[1;32m     21\u001b[0m \u001b[43m            \u001b[49m\u001b[43mshuffle\u001b[49m\u001b[38;5;241;43m=\u001b[39;49m\u001b[38;5;28;43;01mTrue\u001b[39;49;00m\u001b[43m,\u001b[49m\n\u001b[1;32m     22\u001b[0m \u001b[43m            \u001b[49m\u001b[43mvalidation_data\u001b[49m\u001b[38;5;241;43m=\u001b[39;49m\u001b[43m(\u001b[49m\u001b[43mxtest\u001b[49m\u001b[43m,\u001b[49m\u001b[43m \u001b[49m\u001b[43mxtest\u001b[49m\u001b[43m)\u001b[49m\n\u001b[1;32m     23\u001b[0m \u001b[43m            \u001b[49m\u001b[38;5;66;43;03m#callbacks=[TensorBoard(log_dir='/tmp/autoencoder')])                \u001b[39;49;00m\n\u001b[1;32m     24\u001b[0m \u001b[43m           \u001b[49m\u001b[43m)\u001b[49m\n\u001b[1;32m     26\u001b[0m loss \u001b[38;5;241m=\u001b[39m autoencoder\u001b[38;5;241m.\u001b[39mevaluate(xtest, xtest, verbose\u001b[38;5;241m=\u001b[39m\u001b[38;5;241m0\u001b[39m)\n\u001b[1;32m     27\u001b[0m losses\u001b[38;5;241m.\u001b[39mappend(loss)\n",
      "File \u001b[0;32m~/anaconda3/lib/python3.10/site-packages/keras/src/utils/traceback_utils.py:65\u001b[0m, in \u001b[0;36mfilter_traceback.<locals>.error_handler\u001b[0;34m(*args, **kwargs)\u001b[0m\n\u001b[1;32m     63\u001b[0m filtered_tb \u001b[38;5;241m=\u001b[39m \u001b[38;5;28;01mNone\u001b[39;00m\n\u001b[1;32m     64\u001b[0m \u001b[38;5;28;01mtry\u001b[39;00m:\n\u001b[0;32m---> 65\u001b[0m     \u001b[38;5;28;01mreturn\u001b[39;00m \u001b[43mfn\u001b[49m\u001b[43m(\u001b[49m\u001b[38;5;241;43m*\u001b[39;49m\u001b[43margs\u001b[49m\u001b[43m,\u001b[49m\u001b[43m \u001b[49m\u001b[38;5;241;43m*\u001b[39;49m\u001b[38;5;241;43m*\u001b[39;49m\u001b[43mkwargs\u001b[49m\u001b[43m)\u001b[49m\n\u001b[1;32m     66\u001b[0m \u001b[38;5;28;01mexcept\u001b[39;00m \u001b[38;5;167;01mException\u001b[39;00m \u001b[38;5;28;01mas\u001b[39;00m e:\n\u001b[1;32m     67\u001b[0m     filtered_tb \u001b[38;5;241m=\u001b[39m _process_traceback_frames(e\u001b[38;5;241m.\u001b[39m__traceback__)\n",
      "File \u001b[0;32m~/anaconda3/lib/python3.10/site-packages/keras/src/engine/training.py:1742\u001b[0m, in \u001b[0;36mModel.fit\u001b[0;34m(self, x, y, batch_size, epochs, verbose, callbacks, validation_split, validation_data, shuffle, class_weight, sample_weight, initial_epoch, steps_per_epoch, validation_steps, validation_batch_size, validation_freq, max_queue_size, workers, use_multiprocessing)\u001b[0m\n\u001b[1;32m   1734\u001b[0m \u001b[38;5;28;01mwith\u001b[39;00m tf\u001b[38;5;241m.\u001b[39mprofiler\u001b[38;5;241m.\u001b[39mexperimental\u001b[38;5;241m.\u001b[39mTrace(\n\u001b[1;32m   1735\u001b[0m     \u001b[38;5;124m\"\u001b[39m\u001b[38;5;124mtrain\u001b[39m\u001b[38;5;124m\"\u001b[39m,\n\u001b[1;32m   1736\u001b[0m     epoch_num\u001b[38;5;241m=\u001b[39mepoch,\n\u001b[0;32m   (...)\u001b[0m\n\u001b[1;32m   1739\u001b[0m     _r\u001b[38;5;241m=\u001b[39m\u001b[38;5;241m1\u001b[39m,\n\u001b[1;32m   1740\u001b[0m ):\n\u001b[1;32m   1741\u001b[0m     callbacks\u001b[38;5;241m.\u001b[39mon_train_batch_begin(step)\n\u001b[0;32m-> 1742\u001b[0m     tmp_logs \u001b[38;5;241m=\u001b[39m \u001b[38;5;28;43mself\u001b[39;49m\u001b[38;5;241;43m.\u001b[39;49m\u001b[43mtrain_function\u001b[49m\u001b[43m(\u001b[49m\u001b[43miterator\u001b[49m\u001b[43m)\u001b[49m\n\u001b[1;32m   1743\u001b[0m     \u001b[38;5;28;01mif\u001b[39;00m data_handler\u001b[38;5;241m.\u001b[39mshould_sync:\n\u001b[1;32m   1744\u001b[0m         context\u001b[38;5;241m.\u001b[39masync_wait()\n",
      "File \u001b[0;32m~/anaconda3/lib/python3.10/site-packages/tensorflow/python/util/traceback_utils.py:150\u001b[0m, in \u001b[0;36mfilter_traceback.<locals>.error_handler\u001b[0;34m(*args, **kwargs)\u001b[0m\n\u001b[1;32m    148\u001b[0m filtered_tb \u001b[38;5;241m=\u001b[39m \u001b[38;5;28;01mNone\u001b[39;00m\n\u001b[1;32m    149\u001b[0m \u001b[38;5;28;01mtry\u001b[39;00m:\n\u001b[0;32m--> 150\u001b[0m   \u001b[38;5;28;01mreturn\u001b[39;00m \u001b[43mfn\u001b[49m\u001b[43m(\u001b[49m\u001b[38;5;241;43m*\u001b[39;49m\u001b[43margs\u001b[49m\u001b[43m,\u001b[49m\u001b[43m \u001b[49m\u001b[38;5;241;43m*\u001b[39;49m\u001b[38;5;241;43m*\u001b[39;49m\u001b[43mkwargs\u001b[49m\u001b[43m)\u001b[49m\n\u001b[1;32m    151\u001b[0m \u001b[38;5;28;01mexcept\u001b[39;00m \u001b[38;5;167;01mException\u001b[39;00m \u001b[38;5;28;01mas\u001b[39;00m e:\n\u001b[1;32m    152\u001b[0m   filtered_tb \u001b[38;5;241m=\u001b[39m _process_traceback_frames(e\u001b[38;5;241m.\u001b[39m__traceback__)\n",
      "File \u001b[0;32m~/anaconda3/lib/python3.10/site-packages/tensorflow/python/eager/polymorphic_function/polymorphic_function.py:825\u001b[0m, in \u001b[0;36mFunction.__call__\u001b[0;34m(self, *args, **kwds)\u001b[0m\n\u001b[1;32m    822\u001b[0m compiler \u001b[38;5;241m=\u001b[39m \u001b[38;5;124m\"\u001b[39m\u001b[38;5;124mxla\u001b[39m\u001b[38;5;124m\"\u001b[39m \u001b[38;5;28;01mif\u001b[39;00m \u001b[38;5;28mself\u001b[39m\u001b[38;5;241m.\u001b[39m_jit_compile \u001b[38;5;28;01melse\u001b[39;00m \u001b[38;5;124m\"\u001b[39m\u001b[38;5;124mnonXla\u001b[39m\u001b[38;5;124m\"\u001b[39m\n\u001b[1;32m    824\u001b[0m \u001b[38;5;28;01mwith\u001b[39;00m OptionalXlaContext(\u001b[38;5;28mself\u001b[39m\u001b[38;5;241m.\u001b[39m_jit_compile):\n\u001b[0;32m--> 825\u001b[0m   result \u001b[38;5;241m=\u001b[39m \u001b[38;5;28;43mself\u001b[39;49m\u001b[38;5;241;43m.\u001b[39;49m\u001b[43m_call\u001b[49m\u001b[43m(\u001b[49m\u001b[38;5;241;43m*\u001b[39;49m\u001b[43margs\u001b[49m\u001b[43m,\u001b[49m\u001b[43m \u001b[49m\u001b[38;5;241;43m*\u001b[39;49m\u001b[38;5;241;43m*\u001b[39;49m\u001b[43mkwds\u001b[49m\u001b[43m)\u001b[49m\n\u001b[1;32m    827\u001b[0m new_tracing_count \u001b[38;5;241m=\u001b[39m \u001b[38;5;28mself\u001b[39m\u001b[38;5;241m.\u001b[39mexperimental_get_tracing_count()\n\u001b[1;32m    828\u001b[0m without_tracing \u001b[38;5;241m=\u001b[39m (tracing_count \u001b[38;5;241m==\u001b[39m new_tracing_count)\n",
      "File \u001b[0;32m~/anaconda3/lib/python3.10/site-packages/tensorflow/python/eager/polymorphic_function/polymorphic_function.py:857\u001b[0m, in \u001b[0;36mFunction._call\u001b[0;34m(self, *args, **kwds)\u001b[0m\n\u001b[1;32m    854\u001b[0m   \u001b[38;5;28mself\u001b[39m\u001b[38;5;241m.\u001b[39m_lock\u001b[38;5;241m.\u001b[39mrelease()\n\u001b[1;32m    855\u001b[0m   \u001b[38;5;66;03m# In this case we have created variables on the first call, so we run the\u001b[39;00m\n\u001b[1;32m    856\u001b[0m   \u001b[38;5;66;03m# defunned version which is guaranteed to never create variables.\u001b[39;00m\n\u001b[0;32m--> 857\u001b[0m   \u001b[38;5;28;01mreturn\u001b[39;00m \u001b[38;5;28;43mself\u001b[39;49m\u001b[38;5;241;43m.\u001b[39;49m\u001b[43m_no_variable_creation_fn\u001b[49m\u001b[43m(\u001b[49m\u001b[38;5;241;43m*\u001b[39;49m\u001b[43margs\u001b[49m\u001b[43m,\u001b[49m\u001b[43m \u001b[49m\u001b[38;5;241;43m*\u001b[39;49m\u001b[38;5;241;43m*\u001b[39;49m\u001b[43mkwds\u001b[49m\u001b[43m)\u001b[49m  \u001b[38;5;66;03m# pylint: disable=not-callable\u001b[39;00m\n\u001b[1;32m    858\u001b[0m \u001b[38;5;28;01melif\u001b[39;00m \u001b[38;5;28mself\u001b[39m\u001b[38;5;241m.\u001b[39m_variable_creation_fn \u001b[38;5;129;01mis\u001b[39;00m \u001b[38;5;129;01mnot\u001b[39;00m \u001b[38;5;28;01mNone\u001b[39;00m:\n\u001b[1;32m    859\u001b[0m   \u001b[38;5;66;03m# Release the lock early so that multiple threads can perform the call\u001b[39;00m\n\u001b[1;32m    860\u001b[0m   \u001b[38;5;66;03m# in parallel.\u001b[39;00m\n\u001b[1;32m    861\u001b[0m   \u001b[38;5;28mself\u001b[39m\u001b[38;5;241m.\u001b[39m_lock\u001b[38;5;241m.\u001b[39mrelease()\n",
      "File \u001b[0;32m~/anaconda3/lib/python3.10/site-packages/tensorflow/python/eager/polymorphic_function/tracing_compiler.py:148\u001b[0m, in \u001b[0;36mTracingCompiler.__call__\u001b[0;34m(self, *args, **kwargs)\u001b[0m\n\u001b[1;32m    145\u001b[0m \u001b[38;5;28;01mwith\u001b[39;00m \u001b[38;5;28mself\u001b[39m\u001b[38;5;241m.\u001b[39m_lock:\n\u001b[1;32m    146\u001b[0m   (concrete_function,\n\u001b[1;32m    147\u001b[0m    filtered_flat_args) \u001b[38;5;241m=\u001b[39m \u001b[38;5;28mself\u001b[39m\u001b[38;5;241m.\u001b[39m_maybe_define_function(args, kwargs)\n\u001b[0;32m--> 148\u001b[0m \u001b[38;5;28;01mreturn\u001b[39;00m \u001b[43mconcrete_function\u001b[49m\u001b[38;5;241;43m.\u001b[39;49m\u001b[43m_call_flat\u001b[49m\u001b[43m(\u001b[49m\n\u001b[1;32m    149\u001b[0m \u001b[43m    \u001b[49m\u001b[43mfiltered_flat_args\u001b[49m\u001b[43m,\u001b[49m\u001b[43m \u001b[49m\u001b[43mcaptured_inputs\u001b[49m\u001b[38;5;241;43m=\u001b[39;49m\u001b[43mconcrete_function\u001b[49m\u001b[38;5;241;43m.\u001b[39;49m\u001b[43mcaptured_inputs\u001b[49m\u001b[43m)\u001b[49m\n",
      "File \u001b[0;32m~/anaconda3/lib/python3.10/site-packages/tensorflow/python/eager/polymorphic_function/monomorphic_function.py:1349\u001b[0m, in \u001b[0;36mConcreteFunction._call_flat\u001b[0;34m(self, args, captured_inputs)\u001b[0m\n\u001b[1;32m   1345\u001b[0m possible_gradient_type \u001b[38;5;241m=\u001b[39m gradients_util\u001b[38;5;241m.\u001b[39mPossibleTapeGradientTypes(args)\n\u001b[1;32m   1346\u001b[0m \u001b[38;5;28;01mif\u001b[39;00m (possible_gradient_type \u001b[38;5;241m==\u001b[39m gradients_util\u001b[38;5;241m.\u001b[39mPOSSIBLE_GRADIENT_TYPES_NONE\n\u001b[1;32m   1347\u001b[0m     \u001b[38;5;129;01mand\u001b[39;00m executing_eagerly):\n\u001b[1;32m   1348\u001b[0m   \u001b[38;5;66;03m# No tape is watching; skip to running the function.\u001b[39;00m\n\u001b[0;32m-> 1349\u001b[0m   \u001b[38;5;28;01mreturn\u001b[39;00m \u001b[38;5;28mself\u001b[39m\u001b[38;5;241m.\u001b[39m_build_call_outputs(\u001b[38;5;28;43mself\u001b[39;49m\u001b[38;5;241;43m.\u001b[39;49m\u001b[43m_inference_function\u001b[49m\u001b[43m(\u001b[49m\u001b[38;5;241;43m*\u001b[39;49m\u001b[43margs\u001b[49m\u001b[43m)\u001b[49m)\n\u001b[1;32m   1350\u001b[0m forward_backward \u001b[38;5;241m=\u001b[39m \u001b[38;5;28mself\u001b[39m\u001b[38;5;241m.\u001b[39m_select_forward_and_backward_functions(\n\u001b[1;32m   1351\u001b[0m     args,\n\u001b[1;32m   1352\u001b[0m     possible_gradient_type,\n\u001b[1;32m   1353\u001b[0m     executing_eagerly)\n\u001b[1;32m   1354\u001b[0m forward_function, args_with_tangents \u001b[38;5;241m=\u001b[39m forward_backward\u001b[38;5;241m.\u001b[39mforward()\n",
      "File \u001b[0;32m~/anaconda3/lib/python3.10/site-packages/tensorflow/python/eager/polymorphic_function/atomic_function.py:196\u001b[0m, in \u001b[0;36mAtomicFunction.__call__\u001b[0;34m(self, *args)\u001b[0m\n\u001b[1;32m    194\u001b[0m \u001b[38;5;28;01mwith\u001b[39;00m record\u001b[38;5;241m.\u001b[39mstop_recording():\n\u001b[1;32m    195\u001b[0m   \u001b[38;5;28;01mif\u001b[39;00m \u001b[38;5;28mself\u001b[39m\u001b[38;5;241m.\u001b[39m_bound_context\u001b[38;5;241m.\u001b[39mexecuting_eagerly():\n\u001b[0;32m--> 196\u001b[0m     outputs \u001b[38;5;241m=\u001b[39m \u001b[38;5;28;43mself\u001b[39;49m\u001b[38;5;241;43m.\u001b[39;49m\u001b[43m_bound_context\u001b[49m\u001b[38;5;241;43m.\u001b[39;49m\u001b[43mcall_function\u001b[49m\u001b[43m(\u001b[49m\n\u001b[1;32m    197\u001b[0m \u001b[43m        \u001b[49m\u001b[38;5;28;43mself\u001b[39;49m\u001b[38;5;241;43m.\u001b[39;49m\u001b[43mname\u001b[49m\u001b[43m,\u001b[49m\n\u001b[1;32m    198\u001b[0m \u001b[43m        \u001b[49m\u001b[38;5;28;43mlist\u001b[39;49m\u001b[43m(\u001b[49m\u001b[43margs\u001b[49m\u001b[43m)\u001b[49m\u001b[43m,\u001b[49m\n\u001b[1;32m    199\u001b[0m \u001b[43m        \u001b[49m\u001b[38;5;28;43mlen\u001b[39;49m\u001b[43m(\u001b[49m\u001b[38;5;28;43mself\u001b[39;49m\u001b[38;5;241;43m.\u001b[39;49m\u001b[43mfunction_type\u001b[49m\u001b[38;5;241;43m.\u001b[39;49m\u001b[43mflat_outputs\u001b[49m\u001b[43m)\u001b[49m\u001b[43m,\u001b[49m\n\u001b[1;32m    200\u001b[0m \u001b[43m    \u001b[49m\u001b[43m)\u001b[49m\n\u001b[1;32m    201\u001b[0m   \u001b[38;5;28;01melse\u001b[39;00m:\n\u001b[1;32m    202\u001b[0m     outputs \u001b[38;5;241m=\u001b[39m make_call_op_in_graph(\u001b[38;5;28mself\u001b[39m, \u001b[38;5;28mlist\u001b[39m(args))\n",
      "File \u001b[0;32m~/anaconda3/lib/python3.10/site-packages/tensorflow/python/eager/context.py:1457\u001b[0m, in \u001b[0;36mContext.call_function\u001b[0;34m(self, name, tensor_inputs, num_outputs)\u001b[0m\n\u001b[1;32m   1455\u001b[0m cancellation_context \u001b[38;5;241m=\u001b[39m cancellation\u001b[38;5;241m.\u001b[39mcontext()\n\u001b[1;32m   1456\u001b[0m \u001b[38;5;28;01mif\u001b[39;00m cancellation_context \u001b[38;5;129;01mis\u001b[39;00m \u001b[38;5;28;01mNone\u001b[39;00m:\n\u001b[0;32m-> 1457\u001b[0m   outputs \u001b[38;5;241m=\u001b[39m \u001b[43mexecute\u001b[49m\u001b[38;5;241;43m.\u001b[39;49m\u001b[43mexecute\u001b[49m\u001b[43m(\u001b[49m\n\u001b[1;32m   1458\u001b[0m \u001b[43m      \u001b[49m\u001b[43mname\u001b[49m\u001b[38;5;241;43m.\u001b[39;49m\u001b[43mdecode\u001b[49m\u001b[43m(\u001b[49m\u001b[38;5;124;43m\"\u001b[39;49m\u001b[38;5;124;43mutf-8\u001b[39;49m\u001b[38;5;124;43m\"\u001b[39;49m\u001b[43m)\u001b[49m\u001b[43m,\u001b[49m\n\u001b[1;32m   1459\u001b[0m \u001b[43m      \u001b[49m\u001b[43mnum_outputs\u001b[49m\u001b[38;5;241;43m=\u001b[39;49m\u001b[43mnum_outputs\u001b[49m\u001b[43m,\u001b[49m\n\u001b[1;32m   1460\u001b[0m \u001b[43m      \u001b[49m\u001b[43minputs\u001b[49m\u001b[38;5;241;43m=\u001b[39;49m\u001b[43mtensor_inputs\u001b[49m\u001b[43m,\u001b[49m\n\u001b[1;32m   1461\u001b[0m \u001b[43m      \u001b[49m\u001b[43mattrs\u001b[49m\u001b[38;5;241;43m=\u001b[39;49m\u001b[43mattrs\u001b[49m\u001b[43m,\u001b[49m\n\u001b[1;32m   1462\u001b[0m \u001b[43m      \u001b[49m\u001b[43mctx\u001b[49m\u001b[38;5;241;43m=\u001b[39;49m\u001b[38;5;28;43mself\u001b[39;49m\u001b[43m,\u001b[49m\n\u001b[1;32m   1463\u001b[0m \u001b[43m  \u001b[49m\u001b[43m)\u001b[49m\n\u001b[1;32m   1464\u001b[0m \u001b[38;5;28;01melse\u001b[39;00m:\n\u001b[1;32m   1465\u001b[0m   outputs \u001b[38;5;241m=\u001b[39m execute\u001b[38;5;241m.\u001b[39mexecute_with_cancellation(\n\u001b[1;32m   1466\u001b[0m       name\u001b[38;5;241m.\u001b[39mdecode(\u001b[38;5;124m\"\u001b[39m\u001b[38;5;124mutf-8\u001b[39m\u001b[38;5;124m\"\u001b[39m),\n\u001b[1;32m   1467\u001b[0m       num_outputs\u001b[38;5;241m=\u001b[39mnum_outputs,\n\u001b[0;32m   (...)\u001b[0m\n\u001b[1;32m   1471\u001b[0m       cancellation_manager\u001b[38;5;241m=\u001b[39mcancellation_context,\n\u001b[1;32m   1472\u001b[0m   )\n",
      "File \u001b[0;32m~/anaconda3/lib/python3.10/site-packages/tensorflow/python/eager/execute.py:53\u001b[0m, in \u001b[0;36mquick_execute\u001b[0;34m(op_name, num_outputs, inputs, attrs, ctx, name)\u001b[0m\n\u001b[1;32m     51\u001b[0m \u001b[38;5;28;01mtry\u001b[39;00m:\n\u001b[1;32m     52\u001b[0m   ctx\u001b[38;5;241m.\u001b[39mensure_initialized()\n\u001b[0;32m---> 53\u001b[0m   tensors \u001b[38;5;241m=\u001b[39m \u001b[43mpywrap_tfe\u001b[49m\u001b[38;5;241;43m.\u001b[39;49m\u001b[43mTFE_Py_Execute\u001b[49m\u001b[43m(\u001b[49m\u001b[43mctx\u001b[49m\u001b[38;5;241;43m.\u001b[39;49m\u001b[43m_handle\u001b[49m\u001b[43m,\u001b[49m\u001b[43m \u001b[49m\u001b[43mdevice_name\u001b[49m\u001b[43m,\u001b[49m\u001b[43m \u001b[49m\u001b[43mop_name\u001b[49m\u001b[43m,\u001b[49m\n\u001b[1;32m     54\u001b[0m \u001b[43m                                      \u001b[49m\u001b[43minputs\u001b[49m\u001b[43m,\u001b[49m\u001b[43m \u001b[49m\u001b[43mattrs\u001b[49m\u001b[43m,\u001b[49m\u001b[43m \u001b[49m\u001b[43mnum_outputs\u001b[49m\u001b[43m)\u001b[49m\n\u001b[1;32m     55\u001b[0m \u001b[38;5;28;01mexcept\u001b[39;00m core\u001b[38;5;241m.\u001b[39m_NotOkStatusException \u001b[38;5;28;01mas\u001b[39;00m e:\n\u001b[1;32m     56\u001b[0m   \u001b[38;5;28;01mif\u001b[39;00m name \u001b[38;5;129;01mis\u001b[39;00m \u001b[38;5;129;01mnot\u001b[39;00m \u001b[38;5;28;01mNone\u001b[39;00m:\n",
      "\u001b[0;31mKeyboardInterrupt\u001b[0m: "
     ]
    }
   ],
   "source": [
    "losses = []\n",
    "dimensions = range(2,18,2)\n",
    "\n",
    "for encoding_dim in dimensions:\n",
    "    x = input_img = Input(shape=(784,))\n",
    "    x = Dense(256, activation='relu')(x)\n",
    "    x = Dense(128, activation='relu')(x)\n",
    "    encoded = Dense(encoding_dim, activation='relu')(x)\n",
    "    \n",
    "    x = Dense(128, activation='relu')(encoded)\n",
    "    x = Dense(256, activation='relu')(x)\n",
    "    decoded = Dense(784, activation='sigmoid')(x)\n",
    "\n",
    "    autoencoder = Model(input_img, decoded)\n",
    "    \n",
    "    autoencoder.compile(optimizer='adam', loss='binary_crossentropy')\n",
    "    \n",
    "    autoencoder.fit(xtrain, xtrain,\n",
    "                epochs=100,\n",
    "                batch_size=256,\n",
    "                shuffle=True,\n",
    "                validation_data=(xtest, xtest)\n",
    "                #callbacks=[TensorBoard(log_dir='/tmp/autoencoder')])                \n",
    "               )\n",
    "    \n",
    "    loss = autoencoder.evaluate(xtest, xtest, verbose=0)\n",
    "    losses.append(loss)"
   ]
  },
  {
   "cell_type": "code",
   "execution_count": 4,
   "metadata": {},
   "outputs": [],
   "source": [
    "import matplotlib.pyplot as  plt\n",
    "%matplotlib inline\n"
   ]
  },
  {
   "cell_type": "code",
   "execution_count": 6,
   "metadata": {},
   "outputs": [
    {
     "data": {
      "text/plain": [
       "Text(0.5, 1.0, 'Loss vs Number of Encoded Dimensions')"
      ]
     },
     "execution_count": 6,
     "metadata": {},
     "output_type": "execute_result"
    },
    {
     "data": {
      "image/png": "[encoded data removed]",
      "text/plain": [
       "<Figure size 640x480 with 1 Axes>"
      ]
     },
     "metadata": {},
     "output_type": "display_data"
    }
   ],
   "source": [
    "plt.figure()\n",
    "plt.xlabel('Encoded Dimensions')\n",
    "plt.ylabel('Loss')\n",
    "plt.plot(dimensions, losses)\n",
    "plt.title(\"Loss vs Number of Encoded Dimensions\")\n"
   ]
  },
  {
   "cell_type": "markdown",
   "metadata": {},
   "source": [
    "\n",
    "\n",
    "### <font color='purple'> 2. **_After_** training an autoencoder with `encoding_dim=8`, apply noise (like the previous assignment) to *_only_* the input of the trained autoencoder (not the output). The output images should be without noise. \n",
    "\n",
    "#### <font color='purple'> Print a few noisy images along with the output images to show they don't have noise. </font>"
   ]
  },
  {
   "cell_type": "code",
   "execution_count": 11,
   "metadata": {},
   "outputs": [
    {
     "name": "stdout",
     "output_type": "stream",
     "text": [
      "Epoch 1/100\n",
      "235/235 [==============================] - 2s 6ms/step - loss: 0.2504 - val_loss: 0.1923\n",
      "Epoch 2/100\n",
      "235/235 [==============================] - 1s 6ms/step - loss: 0.1682 - val_loss: 0.1540\n",
      "Epoch 3/100\n",
      "235/235 [==============================] - 1s 6ms/step - loss: 0.1506 - val_loss: 0.1470\n",
      "Epoch 4/100\n",
      "235/235 [==============================] - 1s 6ms/step - loss: 0.1456 - val_loss: 0.1439\n",
      "Epoch 5/100\n",
      "235/235 [==============================] - 2s 7ms/step - loss: 0.1426 - val_loss: 0.1409\n",
      "Epoch 6/100\n",
      "235/235 [==============================] - 1s 6ms/step - loss: 0.1404 - val_loss: 0.1392\n",
      "Epoch 7/100\n",
      "235/235 [==============================] - 1s 6ms/step - loss: 0.1382 - val_loss: 0.1355\n",
      "Epoch 8/100\n",
      "235/235 [==============================] - 1s 6ms/step - loss: 0.1338 - val_loss: 0.1317\n",
      "Epoch 9/100\n",
      "235/235 [==============================] - 1s 6ms/step - loss: 0.1312 - val_loss: 0.1298\n",
      "Epoch 10/100\n",
      "235/235 [==============================] - 1s 6ms/step - loss: 0.1296 - val_loss: 0.1286\n",
      "Epoch 11/100\n",
      "235/235 [==============================] - 1s 6ms/step - loss: 0.1281 - val_loss: 0.1271\n",
      "Epoch 12/100\n",
      "235/235 [==============================] - 1s 6ms/step - loss: 0.1270 - val_loss: 0.1262\n",
      "Epoch 13/100\n",
      "235/235 [==============================] - 2s 7ms/step - loss: 0.1259 - val_loss: 0.1252\n",
      "Epoch 14/100\n",
      "235/235 [==============================] - 2s 6ms/step - loss: 0.1250 - val_loss: 0.1244\n",
      "Epoch 15/100\n",
      "235/235 [==============================] - 2s 6ms/step - loss: 0.1241 - val_loss: 0.1238\n",
      "Epoch 16/100\n",
      "235/235 [==============================] - 2s 6ms/step - loss: 0.1233 - val_loss: 0.1230\n",
      "Epoch 17/100\n",
      "235/235 [==============================] - 1s 6ms/step - loss: 0.1226 - val_loss: 0.1227\n",
      "Epoch 18/100\n",
      "235/235 [==============================] - 2s 7ms/step - loss: 0.1220 - val_loss: 0.1219\n",
      "Epoch 19/100\n",
      "235/235 [==============================] - 2s 7ms/step - loss: 0.1214 - val_loss: 0.1215\n",
      "Epoch 20/100\n",
      "235/235 [==============================] - 2s 7ms/step - loss: 0.1208 - val_loss: 0.1208\n",
      "Epoch 21/100\n",
      "235/235 [==============================] - 2s 7ms/step - loss: 0.1203 - val_loss: 0.1208\n",
      "Epoch 22/100\n",
      "235/235 [==============================] - 2s 7ms/step - loss: 0.1199 - val_loss: 0.1203\n",
      "Epoch 23/100\n",
      "235/235 [==============================] - 2s 7ms/step - loss: 0.1194 - val_loss: 0.1202\n",
      "Epoch 24/100\n",
      "235/235 [==============================] - 2s 7ms/step - loss: 0.1191 - val_loss: 0.1196\n",
      "Epoch 25/100\n",
      "235/235 [==============================] - 2s 7ms/step - loss: 0.1187 - val_loss: 0.1193\n",
      "Epoch 26/100\n",
      "235/235 [==============================] - 1s 6ms/step - loss: 0.1184 - val_loss: 0.1192\n",
      "Epoch 27/100\n",
      "235/235 [==============================] - 2s 6ms/step - loss: 0.1180 - val_loss: 0.1189\n",
      "Epoch 28/100\n",
      "235/235 [==============================] - 1s 6ms/step - loss: 0.1177 - val_loss: 0.1190\n",
      "Epoch 29/100\n",
      "235/235 [==============================] - 1s 6ms/step - loss: 0.1174 - val_loss: 0.1185\n",
      "Epoch 30/100\n",
      "235/235 [==============================] - 2s 6ms/step - loss: 0.1171 - val_loss: 0.1182\n",
      "Epoch 31/100\n",
      "235/235 [==============================] - 2s 6ms/step - loss: 0.1168 - val_loss: 0.1179\n",
      "Epoch 32/100\n",
      "235/235 [==============================] - 2s 6ms/step - loss: 0.1166 - val_loss: 0.1181\n",
      "Epoch 33/100\n",
      "235/235 [==============================] - 1s 6ms/step - loss: 0.1163 - val_loss: 0.1177\n",
      "Epoch 34/100\n",
      "235/235 [==============================] - 1s 6ms/step - loss: 0.1161 - val_loss: 0.1176\n",
      "Epoch 35/100\n",
      "235/235 [==============================] - 1s 6ms/step - loss: 0.1159 - val_loss: 0.1173\n",
      "Epoch 36/100\n",
      "235/235 [==============================] - 2s 6ms/step - loss: 0.1157 - val_loss: 0.1174\n",
      "Epoch 37/100\n",
      "235/235 [==============================] - 2s 6ms/step - loss: 0.1155 - val_loss: 0.1174\n",
      "Epoch 38/100\n",
      "235/235 [==============================] - 1s 6ms/step - loss: 0.1153 - val_loss: 0.1168\n",
      "Epoch 39/100\n",
      "235/235 [==============================] - 2s 7ms/step - loss: 0.1151 - val_loss: 0.1170\n",
      "Epoch 40/100\n",
      "235/235 [==============================] - 2s 7ms/step - loss: 0.1149 - val_loss: 0.1169\n",
      "Epoch 41/100\n",
      "235/235 [==============================] - 2s 7ms/step - loss: 0.1147 - val_loss: 0.1167\n",
      "Epoch 42/100\n",
      "235/235 [==============================] - 1s 6ms/step - loss: 0.1145 - val_loss: 0.1167\n",
      "Epoch 43/100\n",
      "235/235 [==============================] - 1s 6ms/step - loss: 0.1144 - val_loss: 0.1167\n",
      "Epoch 44/100\n",
      "235/235 [==============================] - 1s 6ms/step - loss: 0.1142 - val_loss: 0.1165\n",
      "Epoch 45/100\n",
      "235/235 [==============================] - 1s 6ms/step - loss: 0.1141 - val_loss: 0.1164\n",
      "Epoch 46/100\n",
      "235/235 [==============================] - 2s 6ms/step - loss: 0.1139 - val_loss: 0.1162\n",
      "Epoch 47/100\n",
      "235/235 [==============================] - 2s 6ms/step - loss: 0.1138 - val_loss: 0.1160\n",
      "Epoch 48/100\n",
      "235/235 [==============================] - 2s 7ms/step - loss: 0.1136 - val_loss: 0.1159\n",
      "Epoch 49/100\n",
      "235/235 [==============================] - 2s 6ms/step - loss: 0.1135 - val_loss: 0.1159\n",
      "Epoch 50/100\n",
      "235/235 [==============================] - 2s 6ms/step - loss: 0.1133 - val_loss: 0.1158\n",
      "Epoch 51/100\n",
      "235/235 [==============================] - 2s 7ms/step - loss: 0.1132 - val_loss: 0.1157\n",
      "Epoch 52/100\n",
      "235/235 [==============================] - 2s 6ms/step - loss: 0.1132 - val_loss: 0.1157\n",
      "Epoch 53/100\n",
      "235/235 [==============================] - 2s 6ms/step - loss: 0.1129 - val_loss: 0.1157\n",
      "Epoch 54/100\n",
      "235/235 [==============================] - 2s 6ms/step - loss: 0.1129 - val_loss: 0.1157\n",
      "Epoch 55/100\n",
      "235/235 [==============================] - 2s 7ms/step - loss: 0.1128 - val_loss: 0.1154\n",
      "Epoch 56/100\n",
      "235/235 [==============================] - 2s 6ms/step - loss: 0.1126 - val_loss: 0.1155\n",
      "Epoch 57/100\n",
      "235/235 [==============================] - 2s 7ms/step - loss: 0.1125 - val_loss: 0.1156\n",
      "Epoch 58/100\n",
      "235/235 [==============================] - 1s 6ms/step - loss: 0.1124 - val_loss: 0.1152\n",
      "Epoch 59/100\n",
      "235/235 [==============================] - 2s 6ms/step - loss: 0.1123 - val_loss: 0.1151\n",
      "Epoch 60/100\n",
      "235/235 [==============================] - 2s 7ms/step - loss: 0.1123 - val_loss: 0.1155\n",
      "Epoch 61/100\n",
      "235/235 [==============================] - 2s 6ms/step - loss: 0.1122 - val_loss: 0.1153\n",
      "Epoch 62/100\n",
      "235/235 [==============================] - 2s 7ms/step - loss: 0.1120 - val_loss: 0.1153\n",
      "Epoch 63/100\n",
      "235/235 [==============================] - 2s 6ms/step - loss: 0.1120 - val_loss: 0.1148\n",
      "Epoch 64/100\n",
      "235/235 [==============================] - 2s 6ms/step - loss: 0.1118 - val_loss: 0.1149\n",
      "Epoch 65/100\n",
      "235/235 [==============================] - 2s 6ms/step - loss: 0.1117 - val_loss: 0.1150\n",
      "Epoch 66/100\n",
      "235/235 [==============================] - 1s 6ms/step - loss: 0.1117 - val_loss: 0.1148\n",
      "Epoch 67/100\n",
      "235/235 [==============================] - 2s 6ms/step - loss: 0.1116 - val_loss: 0.1146\n",
      "Epoch 68/100\n",
      "235/235 [==============================] - 2s 6ms/step - loss: 0.1115 - val_loss: 0.1149\n",
      "Epoch 69/100\n",
      "235/235 [==============================] - 2s 6ms/step - loss: 0.1114 - val_loss: 0.1148\n",
      "Epoch 70/100\n",
      "235/235 [==============================] - 2s 6ms/step - loss: 0.1114 - val_loss: 0.1146\n",
      "Epoch 71/100\n",
      "235/235 [==============================] - 1s 6ms/step - loss: 0.1113 - val_loss: 0.1149\n",
      "Epoch 72/100\n",
      "235/235 [==============================] - 1s 6ms/step - loss: 0.1112 - val_loss: 0.1147\n",
      "Epoch 73/100\n",
      "235/235 [==============================] - 2s 6ms/step - loss: 0.1111 - val_loss: 0.1146\n",
      "Epoch 74/100\n",
      "235/235 [==============================] - 1s 6ms/step - loss: 0.1111 - val_loss: 0.1147\n",
      "Epoch 75/100\n",
      "235/235 [==============================] - 1s 6ms/step - loss: 0.1110 - val_loss: 0.1144\n",
      "Epoch 76/100\n",
      "235/235 [==============================] - 1s 6ms/step - loss: 0.1109 - val_loss: 0.1145\n",
      "Epoch 77/100\n",
      "235/235 [==============================] - 1s 6ms/step - loss: 0.1108 - val_loss: 0.1145\n",
      "Epoch 78/100\n",
      "235/235 [==============================] - 1s 6ms/step - loss: 0.1108 - val_loss: 0.1144\n",
      "Epoch 79/100\n",
      "235/235 [==============================] - 1s 6ms/step - loss: 0.1107 - val_loss: 0.1146\n",
      "Epoch 80/100\n",
      "235/235 [==============================] - 1s 6ms/step - loss: 0.1107 - val_loss: 0.1145\n",
      "Epoch 81/100\n"
     ]
    },
    {
     "name": "stdout",
     "output_type": "stream",
     "text": [
      "235/235 [==============================] - 1s 6ms/step - loss: 0.1106 - val_loss: 0.1143\n",
      "Epoch 82/100\n",
      "235/235 [==============================] - 1s 6ms/step - loss: 0.1105 - val_loss: 0.1145\n",
      "Epoch 83/100\n",
      "235/235 [==============================] - 1s 6ms/step - loss: 0.1104 - val_loss: 0.1144\n",
      "Epoch 84/100\n",
      "235/235 [==============================] - 1s 6ms/step - loss: 0.1104 - val_loss: 0.1145\n",
      "Epoch 85/100\n",
      "235/235 [==============================] - 1s 6ms/step - loss: 0.1103 - val_loss: 0.1141\n",
      "Epoch 86/100\n",
      "235/235 [==============================] - 2s 7ms/step - loss: 0.1103 - val_loss: 0.1146\n",
      "Epoch 87/100\n",
      "235/235 [==============================] - 2s 7ms/step - loss: 0.1102 - val_loss: 0.1144\n",
      "Epoch 88/100\n",
      "235/235 [==============================] - 2s 7ms/step - loss: 0.1102 - val_loss: 0.1143\n",
      "Epoch 89/100\n",
      "235/235 [==============================] - 1s 6ms/step - loss: 0.1101 - val_loss: 0.1142\n",
      "Epoch 90/100\n",
      "235/235 [==============================] - 2s 8ms/step - loss: 0.1100 - val_loss: 0.1141\n",
      "Epoch 91/100\n",
      "235/235 [==============================] - 2s 7ms/step - loss: 0.1100 - val_loss: 0.1145\n",
      "Epoch 92/100\n",
      "235/235 [==============================] - 2s 7ms/step - loss: 0.1099 - val_loss: 0.1143\n",
      "Epoch 93/100\n",
      "235/235 [==============================] - 2s 7ms/step - loss: 0.1099 - val_loss: 0.1142\n",
      "Epoch 94/100\n",
      "235/235 [==============================] - 2s 7ms/step - loss: 0.1099 - val_loss: 0.1140\n",
      "Epoch 95/100\n",
      "235/235 [==============================] - 2s 7ms/step - loss: 0.1098 - val_loss: 0.1142\n",
      "Epoch 96/100\n",
      "235/235 [==============================] - 2s 7ms/step - loss: 0.1098 - val_loss: 0.1140\n",
      "Epoch 97/100\n",
      "235/235 [==============================] - 2s 7ms/step - loss: 0.1097 - val_loss: 0.1142\n",
      "Epoch 98/100\n",
      "235/235 [==============================] - 2s 7ms/step - loss: 0.1096 - val_loss: 0.1141\n",
      "Epoch 99/100\n",
      "235/235 [==============================] - 2s 8ms/step - loss: 0.1096 - val_loss: 0.1146\n",
      "Epoch 100/100\n",
      "235/235 [==============================] - 2s 7ms/step - loss: 0.1095 - val_loss: 0.1142\n"
     ]
    },
    {
     "data": {
      "text/plain": [
       "<keras.src.callbacks.History at 0x28e6e4220>"
      ]
     },
     "execution_count": 11,
     "metadata": {},
     "output_type": "execute_result"
    }
   ],
   "source": [
    "encoding_dim = 8\n",
    "\n",
    "x = input_img = Input(shape=(784,))\n",
    "x = Dense(256, activation='relu')(x)\n",
    "x = Dense(128, activation='relu')(x)\n",
    "encoded = Dense(encoding_dim, activation='relu')(x)\n",
    "    \n",
    "x = Dense(128, activation='relu')(encoded)\n",
    "x = Dense(256, activation='relu')(x)\n",
    "decoded = Dense(784, activation='sigmoid')(x)\n",
    "\n",
    "autoencoder = Model(input_img, decoded)\n",
    "    \n",
    "autoencoder.compile(optimizer='adam', loss='binary_crossentropy')\n",
    "    \n",
    "autoencoder.fit(xtrain, xtrain,\n",
    "        epochs=100,\n",
    "        batch_size=256,\n",
    "        shuffle=True,\n",
    "        validation_data=(xtest, xtest)\n",
    "        #callbacks=[TensorBoard(log_dir='/tmp/autoencoder')])                \n",
    "        )"
   ]
  },
  {
   "cell_type": "code",
   "execution_count": 13,
   "metadata": {},
   "outputs": [],
   "source": [
    "noise_train = np.random.normal(scale=0.2, size=[60000,784])\n",
    "noise_test = np.random.normal(scale=0.2, size=[10000,784])\n",
    "\n",
    "xtrain_noisy = xtrain + noise_train\n",
    "xtest_noisy = xtest + noise_test"
   ]
  },
  {
   "cell_type": "code",
   "execution_count": 21,
   "metadata": {},
   "outputs": [
    {
     "name": "stdout",
     "output_type": "stream",
     "text": [
      "313/313 [==============================] - 0s 740us/step\n"
     ]
    }
   ],
   "source": [
    "noise_predictions = autoencoder.predict(xtest_noisy)"
   ]
  },
  {
   "cell_type": "code",
   "execution_count": 22,
   "metadata": {},
   "outputs": [
    {
     "data": {
      "text/plain": [
       "<matplotlib.image.AxesImage at 0x28577c5b0>"
      ]
     },
     "execution_count": 22,
     "metadata": {},
     "output_type": "execute_result"
    },
    {
     "data": {
      "image/png": "[encoded data removed]",
      "text/plain": [
       "<Figure size 640x480 with 1 Axes>"
      ]
     },
     "metadata": {},
     "output_type": "display_data"
    }
   ],
   "source": [
    "plt.imshow(noise_predictions[1].reshape(28,28))"
   ]
  },
  {
   "cell_type": "code",
   "execution_count": 24,
   "metadata": {},
   "outputs": [
    {
     "data": {
      "text/plain": [
       "<matplotlib.image.AxesImage at 0x28555c1f0>"
      ]
     },
     "execution_count": 24,
     "metadata": {},
     "output_type": "execute_result"
    },
    {
     "data": {
      "image/png": "[encoded data removed]",
      "text/plain": [
       "<Figure size 640x480 with 1 Axes>"
      ]
     },
     "metadata": {},
     "output_type": "display_data"
    }
   ],
   "source": [
    "plt.imshow(xtest_noisy[1].reshape(28,28))"
   ]
  },
  {
   "cell_type": "code",
   "execution_count": 25,
   "metadata": {},
   "outputs": [
    {
     "data": {
      "text/plain": [
       "<matplotlib.image.AxesImage at 0x2855d2d70>"
      ]
     },
     "execution_count": 25,
     "metadata": {},
     "output_type": "execute_result"
    },
    {
     "data": {
      "image/png": "[encoded data removed]",
      "text/plain": [
       "<Figure size 640x480 with 1 Axes>"
      ]
     },
     "metadata": {},
     "output_type": "display_data"
    }
   ],
   "source": [
    "plt.imshow(noise_predictions[0].reshape(28,28))"
   ]
  },
  {
   "cell_type": "code",
   "execution_count": 26,
   "metadata": {},
   "outputs": [
    {
     "data": {
      "text/plain": [
       "<matplotlib.image.AxesImage at 0x28567df60>"
      ]
     },
     "execution_count": 26,
     "metadata": {},
     "output_type": "execute_result"
    },
    {
     "data": {
      "image/png": "[encoded data removed]",
      "text/plain": [
       "<Figure size 640x480 with 1 Axes>"
      ]
     },
     "metadata": {},
     "output_type": "display_data"
    }
   ],
   "source": [
    "plt.imshow(xtest_noisy[0].reshape(28,28))"
   ]
  },
  {
   "cell_type": "code",
   "execution_count": null,
   "metadata": {},
   "outputs": [],
   "source": []
  }
 ],
 "metadata": {
  "kernelspec": {
   "display_name": "Python 3 (ipykernel)",
   "language": "python",
   "name": "python3"
  },
  "language_info": {
   "codemirror_mode": {
    "name": "ipython",
    "version": 3
   },
   "file_extension": ".py",
   "mimetype": "text/x-python",
   "name": "python",
   "nbconvert_exporter": "python",
   "pygments_lexer": "ipython3",
   "version": "3.10.9"
  }
 },
 "nbformat": 4,
 "nbformat_minor": 2
}
