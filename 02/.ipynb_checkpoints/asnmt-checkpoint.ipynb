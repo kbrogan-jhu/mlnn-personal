{
 "cells": [
  {
   "cell_type": "code",
   "execution_count": 1,
   "metadata": {},
   "outputs": [],
   "source": [
    "import numpy as np\n",
    "import pandas as pd\n",
    "import scipy as sp"
   ]
  },
  {
   "cell_type": "code",
   "execution_count": 2,
   "metadata": {},
   "outputs": [],
   "source": [
    "%matplotlib inline\n",
    "import matplotlib.pyplot as plt\n",
    "plt.style.use('ggplot')"
   ]
  },
  {
   "cell_type": "code",
   "execution_count": 3,
   "metadata": {},
   "outputs": [
    {
     "name": "stdout",
     "output_type": "stream",
     "text": [
      "Writing hw_data.csv\n"
     ]
    }
   ],
   "source": [
    "%%file hw_data.csv\n",
    "id,sex,weight,height\n",
    "1,M,190,77\n",
    "2,F,120,70\n",
    "3,F,110,68\n",
    "4,M,150,72\n",
    "5,O,120,66\n",
    "6,M,120,60\n",
    "7,F,140,70"
   ]
  },
  {
   "cell_type": "markdown",
   "metadata": {},
   "source": [
    "# Python"
   ]
  },
  {
   "cell_type": "markdown",
   "metadata": {},
   "source": [
    "## 1. Finish creating the following function that takes a list and returns the average value.\n",
    "\n",
    "Add each element in the list to `total` and return `total`\n",
    "\n",
    "### DO NOT use a library function nor `sum()`"
   ]
  },
  {
   "cell_type": "code",
   "execution_count": 7,
   "metadata": {},
   "outputs": [
    {
     "data": {
      "text/plain": [
       "3.375"
      ]
     },
     "execution_count": 7,
     "metadata": {},
     "output_type": "execute_result"
    }
   ],
   "source": [
    "def average(my_list):\n",
    "    total = 0\n",
    "    for item in my_list:\n",
    "        total += item\n",
    "    \n",
    "    return total/len(my_list)\n",
    "\n",
    "average([1,2,1,4,3,2,5,9])"
   ]
  },
  {
   "cell_type": "markdown",
   "metadata": {},
   "source": [
    "## 2. Using a Dictionary keep track of the count of numbers (or items) from a list"
   ]
  },
  {
   "cell_type": "code",
   "execution_count": 9,
   "metadata": {},
   "outputs": [
    {
     "data": {
      "text/plain": [
       "{1: 2, 2: 2, 4: 1, 3: 1, 5: 1, 9: 1}"
      ]
     },
     "execution_count": 9,
     "metadata": {},
     "output_type": "execute_result"
    }
   ],
   "source": [
    "def counts(my_list):\n",
    "    counts = dict()\n",
    "    for item in my_list:\n",
    "        if (item in counts):\n",
    "            counts[item] += 1\n",
    "        else:\n",
    "            counts[item] = 1\n",
    "    \n",
    "    return counts\n",
    "\n",
    "counts([1,2,1,4,3,2,5,9])    "
   ]
  },
  {
   "cell_type": "markdown",
   "metadata": {},
   "source": [
    "## 3.  Using the `counts()` function you created above and the `.split()` function, return a dictionary of most occuring words from the following paragraph. Bonus, remove punctuation from words."
   ]
  },
  {
   "cell_type": "code",
   "execution_count": 19,
   "metadata": {},
   "outputs": [
    {
     "data": {
      "text/plain": [
       "[('the', 32),\n",
       " ('and', 16),\n",
       " ('a', 15),\n",
       " ('to', 15),\n",
       " ('of', 9),\n",
       " ('was', 8),\n",
       " ('in', 7),\n",
       " ('she', 6),\n",
       " ('at', 6),\n",
       " ('he', 5),\n",
       " ('his', 5),\n",
       " ('you', 5),\n",
       " ('door', 4),\n",
       " ('Alice', 4),\n",
       " ('had', 4),\n",
       " ('as', 4),\n",
       " ('on', 4),\n",
       " ('footman', 3),\n",
       " ('out', 3),\n",
       " ('because', 3),\n",
       " ('by', 3),\n",
       " ('large', 3),\n",
       " ('that', 3),\n",
       " ('all', 3),\n",
       " ('their', 3),\n",
       " ('this', 3),\n",
       " ('for', 3),\n",
       " ('into', 3),\n",
       " ('up', 3),\n",
       " ('said', 3),\n",
       " ('I', 3),\n",
       " ('might', 3),\n",
       " ('For', 2),\n",
       " ('or', 2),\n",
       " ('two', 2),\n",
       " ('looking', 2),\n",
       " ('what', 2),\n",
       " ('when', 2),\n",
       " ('came', 2),\n",
       " ('him', 2),\n",
       " ('be', 2),\n",
       " ('with', 2),\n",
       " ('eyes', 2),\n",
       " ('both', 2),\n",
       " ('over', 2),\n",
       " ('very', 2),\n",
       " ('it', 2),\n",
       " ('wood', 2),\n",
       " ('The', 2),\n",
       " ('Fish-Footman', 2),\n",
       " ('from', 2),\n",
       " ('great', 2),\n",
       " ('nearly', 2),\n",
       " ('solemn', 2),\n",
       " ('tone,', 2),\n",
       " ('An', 2),\n",
       " ('invitation', 2),\n",
       " ('play', 2),\n",
       " ('croquet.’', 2),\n",
       " ('repeated,', 2),\n",
       " ('same', 2),\n",
       " ('so', 2),\n",
       " ('door,', 2),\n",
       " ('went', 2),\n",
       " ('no', 2),\n",
       " ('knocking,’', 2),\n",
       " ('noise', 2),\n",
       " ('inside,', 2),\n",
       " ('one', 2),\n",
       " ('could', 2),\n",
       " ('if', 2),\n",
       " ('am', 2),\n",
       " ('get', 2),\n",
       " ('in?’', 2),\n",
       " ('Footman', 2),\n",
       " ('out,', 2),\n",
       " ('minute', 1),\n",
       " ('stood', 1),\n",
       " ('house,', 1),\n",
       " ('wondering', 1),\n",
       " ('do', 1),\n",
       " ('next,', 1),\n",
       " ('suddenly', 1),\n",
       " ('livery', 1),\n",
       " ('running', 1),\n",
       " ('wood—(she', 1),\n",
       " ('considered', 1),\n",
       " ('livery:', 1),\n",
       " ('otherwise,', 1),\n",
       " ('judging', 1),\n",
       " ('face', 1),\n",
       " ('only,', 1),\n",
       " ('would', 1),\n",
       " ('have', 1),\n",
       " ('called', 1),\n",
       " ('fish)—and', 1),\n",
       " ('rapped', 1),\n",
       " ('loudly', 1),\n",
       " ('knuckles.', 1),\n",
       " ('It', 1),\n",
       " ('opened', 1),\n",
       " ('another', 1),\n",
       " ('livery,', 1),\n",
       " ('round', 1),\n",
       " ('face,', 1),\n",
       " ('like', 1),\n",
       " ('frog;', 1),\n",
       " ('footmen,', 1),\n",
       " ('noticed,', 1),\n",
       " ('powdered', 1),\n",
       " ('hair', 1),\n",
       " ('curled', 1),\n",
       " ('heads.', 1),\n",
       " ('She', 1),\n",
       " ('felt', 1),\n",
       " ('curious', 1),\n",
       " ('know', 1),\n",
       " ('about,', 1),\n",
       " ('crept', 1),\n",
       " ('little', 1),\n",
       " ('way', 1),\n",
       " ('listen.', 1),\n",
       " ('began', 1),\n",
       " ('producing', 1),\n",
       " ('under', 1),\n",
       " ('arm', 1),\n",
       " ('letter,', 1),\n",
       " ('himself,', 1),\n",
       " ('handed', 1),\n",
       " ('other,', 1),\n",
       " ('saying,', 1),\n",
       " ('‘For', 1),\n",
       " ('Duchess.', 1),\n",
       " ('Queen', 1),\n",
       " ('Frog-Footman', 1),\n",
       " ('only', 1),\n",
       " ('changing', 1),\n",
       " ('order', 1),\n",
       " ('words', 1),\n",
       " ('little,', 1),\n",
       " ('‘From', 1),\n",
       " ('Queen.', 1),\n",
       " ('Duchess', 1),\n",
       " ('Then', 1),\n",
       " ('they', 1),\n",
       " ('bowed', 1),\n",
       " ('low,', 1),\n",
       " ('curls', 1),\n",
       " ('got', 1),\n",
       " ('entangled', 1),\n",
       " ('together.', 1),\n",
       " ('laughed', 1),\n",
       " ('much', 1),\n",
       " ('this,', 1),\n",
       " ('run', 1),\n",
       " ('back', 1),\n",
       " ('fear', 1),\n",
       " ('hearing', 1),\n",
       " ('her;', 1),\n",
       " ('next', 1),\n",
       " ('peeped', 1),\n",
       " ('gone,', 1),\n",
       " ('other', 1),\n",
       " ('sitting', 1),\n",
       " ('ground', 1),\n",
       " ('near', 1),\n",
       " ('staring', 1),\n",
       " ('stupidly', 1),\n",
       " ('sky.', 1),\n",
       " ('timidly', 1),\n",
       " ('knocked.', 1),\n",
       " ('‘There’s', 1),\n",
       " ('sort', 1),\n",
       " ('use', 1),\n",
       " ('Footman,', 1),\n",
       " ('‘and', 1),\n",
       " ('reasons.', 1),\n",
       " ('First,', 1),\n",
       " ('I’m', 1),\n",
       " ('side', 1),\n",
       " ('are;', 1),\n",
       " ('secondly,', 1),\n",
       " ('they’re', 1),\n",
       " ('making', 1),\n",
       " ('such', 1),\n",
       " ('possibly', 1),\n",
       " ('hear', 1),\n",
       " ('you.’', 1),\n",
       " ('And', 1),\n",
       " ('certainly', 1),\n",
       " ('there', 1),\n",
       " ('most', 1),\n",
       " ('extraordinary', 1),\n",
       " ('going', 1),\n",
       " ('within—a', 1),\n",
       " ('constant', 1),\n",
       " ('howling', 1),\n",
       " ('sneezing,', 1),\n",
       " ('every', 1),\n",
       " ('now', 1),\n",
       " ('then', 1),\n",
       " ('crash,', 1),\n",
       " ('dish', 1),\n",
       " ('kettle', 1),\n",
       " ('been', 1),\n",
       " ('broken', 1),\n",
       " ('pieces.', 1),\n",
       " ('‘Please,', 1),\n",
       " ('then,’', 1),\n",
       " ('Alice,', 1),\n",
       " ('‘how', 1),\n",
       " ('‘There', 1),\n",
       " ('some', 1),\n",
       " ('sense', 1),\n",
       " ('your', 1),\n",
       " ('without', 1),\n",
       " ('attending', 1),\n",
       " ('her,', 1),\n",
       " ('‘if', 1),\n",
       " ('we', 1),\n",
       " ('between', 1),\n",
       " ('us.', 1),\n",
       " ('instance,', 1),\n",
       " ('were', 1),\n",
       " ('knock,', 1),\n",
       " ('let', 1),\n",
       " ('know.’', 1),\n",
       " ('He', 1),\n",
       " ('sky', 1),\n",
       " ('time', 1),\n",
       " ('speaking,', 1),\n",
       " ('thought', 1),\n",
       " ('decidedly', 1),\n",
       " ('uncivil.', 1),\n",
       " ('‘But', 1),\n",
       " ('perhaps', 1),\n",
       " ('can’t', 1),\n",
       " ('help', 1),\n",
       " ('it,’', 1),\n",
       " ('herself;', 1),\n",
       " ('‘his', 1),\n",
       " ('are', 1),\n",
       " ('top', 1),\n",
       " ('head.', 1),\n",
       " ('But', 1),\n",
       " ('any', 1),\n",
       " ('rate', 1),\n",
       " ('answer', 1),\n",
       " ('questions.—How', 1),\n",
       " ('aloud.', 1),\n",
       " ('‘I', 1),\n",
       " ('shall', 1),\n",
       " ('sit', 1),\n",
       " ('here,’', 1),\n",
       " ('remarked,', 1),\n",
       " ('‘till', 1),\n",
       " ('tomorrow—’', 1),\n",
       " ('At', 1),\n",
       " ('moment', 1),\n",
       " ('house', 1),\n",
       " ('opened,', 1),\n",
       " ('plate', 1),\n",
       " ('skimming', 1),\n",
       " ('straight', 1),\n",
       " ('Footman’s', 1),\n",
       " ('head:', 1),\n",
       " ('just', 1),\n",
       " ('grazed', 1),\n",
       " ('nose,', 1),\n",
       " ('broke', 1),\n",
       " ('pieces', 1),\n",
       " ('against', 1),\n",
       " ('trees', 1),\n",
       " ('behind', 1),\n",
       " ('him.', 1)]"
      ]
     },
     "execution_count": 19,
     "metadata": {},
     "output_type": "execute_result"
    }
   ],
   "source": [
    "paragraph_text = '''\n",
    "For a minute or two she stood looking at the house, and wondering what to do next, when suddenly a footman in livery came running out of the wood—(she considered him to be a footman because he was in livery: otherwise, judging by his face only, she would have called him a fish)—and rapped loudly at the door with his knuckles. It was opened by another footman in livery, with a round face, and large eyes like a frog; and both footmen, Alice noticed, had powdered hair that curled all over their heads. She felt very curious to know what it was all about, and crept a little way out of the wood to listen.\n",
    "The Fish-Footman began by producing from under his arm a great letter, nearly as large as himself, and this he handed over to the other, saying, in a solemn tone, ‘For the Duchess. An invitation from the Queen to play croquet.’ The Frog-Footman repeated, in the same solemn tone, only changing the order of the words a little, ‘From the Queen. An invitation for the Duchess to play croquet.’\n",
    "Then they both bowed low, and their curls got entangled together.\n",
    "Alice laughed so much at this, that she had to run back into the wood for fear of their hearing her; and when she next peeped out the Fish-Footman was gone, and the other was sitting on the ground near the door, staring stupidly up into the sky.\n",
    "Alice went timidly up to the door, and knocked.\n",
    "‘There’s no sort of use in knocking,’ said the Footman, ‘and that for two reasons. First, because I’m on the same side of the door as you are; secondly, because they’re making such a noise inside, no one could possibly hear you.’ And certainly there was a most extraordinary noise going on within—a constant howling and sneezing, and every now and then a great crash, as if a dish or kettle had been broken to pieces.\n",
    "‘Please, then,’ said Alice, ‘how am I to get in?’\n",
    "‘There might be some sense in your knocking,’ the Footman went on without attending to her, ‘if we had the door between us. For instance, if you were inside, you might knock, and I could let you out, you know.’ He was looking up into the sky all the time he was speaking, and this Alice thought decidedly uncivil. ‘But perhaps he can’t help it,’ she said to herself; ‘his eyes are so very nearly at the top of his head. But at any rate he might answer questions.—How am I to get in?’ she repeated, aloud.\n",
    "‘I shall sit here,’ the Footman remarked, ‘till tomorrow—’\n",
    "At this moment the door of the house opened, and a large plate came skimming out, straight at the Footman’s head: it just grazed his nose, and broke to pieces against one of the trees behind him.'''\n",
    "\n",
    "parsed_paragraph = counts(paragraph_text.split())\n",
    "# parsed_paragraph\n",
    "sorted(parsed_paragraph.items(), key=lambda x: x[1], reverse=True)"
   ]
  },
  {
   "cell_type": "markdown",
   "metadata": {},
   "source": [
    "## 4. Read in a file using `open()` and iterated through the file line-by-line write each line from the file to a new file in a  `title()`-ized. Create your own file for input\n",
    "\n",
    "`This is the first line` ->  `This Is The First Line`\n",
    "\n",
    "Hint: There's a function to do this"
   ]
  },
  {
   "cell_type": "code",
   "execution_count": 34,
   "metadata": {},
   "outputs": [
    {
     "name": "stdout",
     "output_type": "stream",
     "text": [
      "This is the first line\n",
      "  ->  This Is The First Line\n",
      "\n",
      "This is the second line\n",
      "  ->  This Is The Second Line\n",
      "\n",
      "This is the third line\n",
      "  ->  This Is The Third Line\n",
      "\n"
     ]
    }
   ],
   "source": [
    "with open('pythonQ4_inputdata.txt') as txtfile:\n",
    "    for line in txtfile:\n",
    "        print(line, \" -> \", line.title())\n",
    "\n",
    "\n",
    "    \n"
   ]
  },
  {
   "cell_type": "markdown",
   "metadata": {},
   "source": [
    "# Numpy"
   ]
  },
  {
   "cell_type": "markdown",
   "metadata": {},
   "source": [
    "## 1. Given a list, find the average using a numpy function. "
   ]
  },
  {
   "cell_type": "code",
   "execution_count": 35,
   "metadata": {},
   "outputs": [
    {
     "data": {
      "text/plain": [
       "3.375"
      ]
     },
     "execution_count": 35,
     "metadata": {},
     "output_type": "execute_result"
    }
   ],
   "source": [
    "simple_list = [1,2,1,4,3,2,5,9]\n",
    "np.average(simple_list)\n"
   ]
  },
  {
   "cell_type": "markdown",
   "metadata": {},
   "source": [
    "## 2. Given two lists of Heights and Weights of individual, calculate the BMI of those individuals, without writing a `for-loop`"
   ]
  },
  {
   "cell_type": "code",
   "execution_count": 59,
   "metadata": {},
   "outputs": [
    {
     "name": "stdout",
     "output_type": "stream",
     "text": [
      "[29.06592681 27.73229978 30.73941662 24.16326531 26.33288875]\n"
     ]
    }
   ],
   "source": [
    "heights = [174, 173, 173, 175, 171]\n",
    "weights = [88, 83, 92, 74, 77]\n",
    "\n",
    "heights2 = np.array(heights)\n",
    "weights2 = np.array(weights)\n",
    "heights2 = heights2/100\n",
    "heights2 = heights2**2\n",
    "\n",
    "bmi = (weights2/heights2)\n",
    "print(bmi)\n"
   ]
  },
  {
   "cell_type": "markdown",
   "metadata": {},
   "source": [
    "## 3. Create an array of length 20 filled with random values (between 0 to 1) "
   ]
  },
  {
   "cell_type": "code",
   "execution_count": 60,
   "metadata": {},
   "outputs": [
    {
     "data": {
      "text/plain": [
       "array([0.94057918, 0.92838006, 0.95956774, 0.53834977, 0.38333873,\n",
       "       0.60579967, 0.07069988, 0.65864484, 0.70196029, 0.2276436 ,\n",
       "       0.88658227, 0.57741859, 0.86830519, 0.75644831, 0.78684604,\n",
       "       0.65440548, 0.48755899, 0.55898325, 0.19468322, 0.34969763])"
      ]
     },
     "execution_count": 60,
     "metadata": {},
     "output_type": "execute_result"
    }
   ],
   "source": [
    "np.random.rand(20)"
   ]
  },
  {
   "cell_type": "markdown",
   "metadata": {},
   "source": [
    "## 4. Create an array with at least 1000 random numbers from normal distributions (normal). Then, plot a histogram of these values (`plt.hist`)."
   ]
  },
  {
   "cell_type": "code",
   "execution_count": 64,
   "metadata": {},
   "outputs": [
    {
     "data": {
      "text/plain": [
       "(array([  4.,  33.,  89., 219., 436., 543., 405., 192.,  65.,  14.]),\n",
       " array([-3.54793307, -2.88593977, -2.22394647, -1.56195317, -0.89995987,\n",
       "        -0.23796657,  0.42402673,  1.08602003,  1.74801333,  2.41000662,\n",
       "         3.07199992]),\n",
       " <BarContainer object of 10 artists>)"
      ]
     },
     "execution_count": 64,
     "metadata": {},
     "output_type": "execute_result"
    },
    {
     "data": {
      "image/png": "[encoded data removed]",
      "text/plain": [
       "<Figure size 640x480 with 1 Axes>"
      ]
     },
     "metadata": {},
     "output_type": "display_data"
    }
   ],
   "source": [
    "randvals = np.random.randn(2000)\n",
    "plt.hist(randvals)\n"
   ]
  },
  {
   "cell_type": "markdown",
   "metadata": {},
   "source": [
    "# Pandas"
   ]
  },
  {
   "cell_type": "markdown",
   "metadata": {},
   "source": [
    "## 1. Read in a CSV () and display all the columns and their respective data types "
   ]
  },
  {
   "cell_type": "code",
   "execution_count": 83,
   "metadata": {},
   "outputs": [
    {
     "data": {
      "text/plain": [
       "id         int64\n",
       "sex       object\n",
       "weight     int64\n",
       "height     int64\n",
       "dtype: object"
      ]
     },
     "execution_count": 83,
     "metadata": {},
     "output_type": "execute_result"
    }
   ],
   "source": [
    "csv_dat = pd.read_csv('hw_data.csv')\n",
    "csv_dat.dtypes"
   ]
  },
  {
   "cell_type": "markdown",
   "metadata": {},
   "source": [
    "## 2. Find the average weight "
   ]
  },
  {
   "cell_type": "code",
   "execution_count": 68,
   "metadata": {},
   "outputs": [
    {
     "data": {
      "text/plain": [
       "135.71428571428572"
      ]
     },
     "execution_count": 68,
     "metadata": {},
     "output_type": "execute_result"
    }
   ],
   "source": [
    "csv_dat['weight'].mean()\n"
   ]
  },
  {
   "cell_type": "markdown",
   "metadata": {},
   "source": [
    "## 3. Find the Value Counts on column `sex` "
   ]
  },
  {
   "cell_type": "code",
   "execution_count": 69,
   "metadata": {},
   "outputs": [
    {
     "data": {
      "text/plain": [
       "M    3\n",
       "F    3\n",
       "O    1\n",
       "Name: sex, dtype: int64"
      ]
     },
     "execution_count": 69,
     "metadata": {},
     "output_type": "execute_result"
    }
   ],
   "source": [
    "csv_dat['sex'].value_counts()"
   ]
  },
  {
   "cell_type": "markdown",
   "metadata": {},
   "source": [
    "## 4. Plot Height vs. Weight "
   ]
  },
  {
   "cell_type": "code",
   "execution_count": 72,
   "metadata": {
    "scrolled": true
   },
   "outputs": [
    {
     "data": {
      "text/plain": [
       "<matplotlib.collections.PathCollection at 0x12fcee500>"
      ]
     },
     "execution_count": 72,
     "metadata": {},
     "output_type": "execute_result"
    },
    {
     "data": {
      "image/png": "[encoded data removed]",
      "text/plain": [
       "<Figure size 640x480 with 1 Axes>"
      ]
     },
     "metadata": {},
     "output_type": "display_data"
    }
   ],
   "source": [
    "plt.scatter(csv_dat['height'],csv_dat['weight'])"
   ]
  },
  {
   "cell_type": "markdown",
   "metadata": {},
   "source": [
    "## 5. Calculate BMI and save as a new column"
   ]
  },
  {
   "cell_type": "code",
   "execution_count": 84,
   "metadata": {},
   "outputs": [
    {
     "data": {
      "text/html": [
       "<div>\n",
       "<style scoped>\n",
       "    .dataframe tbody tr th:only-of-type {\n",
       "        vertical-align: middle;\n",
       "    }\n",
       "\n",
       "    .dataframe tbody tr th {\n",
       "        vertical-align: top;\n",
       "    }\n",
       "\n",
       "    .dataframe thead th {\n",
       "        text-align: right;\n",
       "    }\n",
       "</style>\n",
       "<table border=\"1\" class=\"dataframe\">\n",
       "  <thead>\n",
       "    <tr style=\"text-align: right;\">\n",
       "      <th></th>\n",
       "      <th>id</th>\n",
       "      <th>sex</th>\n",
       "      <th>weight</th>\n",
       "      <th>height</th>\n",
       "      <th>BMI</th>\n",
       "    </tr>\n",
       "  </thead>\n",
       "  <tbody>\n",
       "    <tr>\n",
       "      <th>0</th>\n",
       "      <td>1</td>\n",
       "      <td>M</td>\n",
       "      <td>190</td>\n",
       "      <td>77</td>\n",
       "      <td>22.528251</td>\n",
       "    </tr>\n",
       "    <tr>\n",
       "      <th>1</th>\n",
       "      <td>2</td>\n",
       "      <td>F</td>\n",
       "      <td>120</td>\n",
       "      <td>70</td>\n",
       "      <td>17.216327</td>\n",
       "    </tr>\n",
       "    <tr>\n",
       "      <th>2</th>\n",
       "      <td>3</td>\n",
       "      <td>F</td>\n",
       "      <td>110</td>\n",
       "      <td>68</td>\n",
       "      <td>16.723616</td>\n",
       "    </tr>\n",
       "    <tr>\n",
       "      <th>3</th>\n",
       "      <td>4</td>\n",
       "      <td>M</td>\n",
       "      <td>150</td>\n",
       "      <td>72</td>\n",
       "      <td>20.341435</td>\n",
       "    </tr>\n",
       "    <tr>\n",
       "      <th>4</th>\n",
       "      <td>5</td>\n",
       "      <td>O</td>\n",
       "      <td>120</td>\n",
       "      <td>66</td>\n",
       "      <td>19.366391</td>\n",
       "    </tr>\n",
       "    <tr>\n",
       "      <th>5</th>\n",
       "      <td>6</td>\n",
       "      <td>M</td>\n",
       "      <td>120</td>\n",
       "      <td>60</td>\n",
       "      <td>23.433333</td>\n",
       "    </tr>\n",
       "    <tr>\n",
       "      <th>6</th>\n",
       "      <td>7</td>\n",
       "      <td>F</td>\n",
       "      <td>140</td>\n",
       "      <td>70</td>\n",
       "      <td>20.085714</td>\n",
       "    </tr>\n",
       "  </tbody>\n",
       "</table>\n",
       "</div>"
      ],
      "text/plain": [
       "   id sex  weight  height        BMI\n",
       "0   1   M     190      77  22.528251\n",
       "1   2   F     120      70  17.216327\n",
       "2   3   F     110      68  16.723616\n",
       "3   4   M     150      72  20.341435\n",
       "4   5   O     120      66  19.366391\n",
       "5   6   M     120      60  23.433333\n",
       "6   7   F     140      70  20.085714"
      ]
     },
     "execution_count": 84,
     "metadata": {},
     "output_type": "execute_result"
    }
   ],
   "source": [
    "csv_dat['BMI'] = (csv_dat['weight']/(csv_dat['height']**2))* 703\n",
    "csv_dat"
   ]
  },
  {
   "cell_type": "markdown",
   "metadata": {},
   "source": [
    "## 6. Save sheet as a new CSV file `hw_dataB.csv`"
   ]
  },
  {
   "cell_type": "code",
   "execution_count": 85,
   "metadata": {},
   "outputs": [],
   "source": [
    "csv_dat.to_csv('hw_dataB.csv')"
   ]
  },
  {
   "cell_type": "markdown",
   "metadata": {},
   "source": [
    "## Run the following (Mac)"
   ]
  },
  {
   "cell_type": "code",
   "execution_count": 86,
   "metadata": {},
   "outputs": [
    {
     "name": "stdout",
     "output_type": "stream",
     "text": [
      ",id,sex,weight,height,BMI\r\n",
      "0,1,M,190,77,22.52825096980941\r\n",
      "1,2,F,120,70,17.216326530612243\r\n",
      "2,3,F,110,68,16.72361591695502\r\n",
      "3,4,M,150,72,20.341435185185187\r\n",
      "4,5,O,120,66,19.366391184573004\r\n",
      "5,6,M,120,60,23.433333333333334\r\n",
      "6,7,F,140,70,20.085714285714285\r\n"
     ]
    }
   ],
   "source": [
    "!cat hw_dataB.csv"
   ]
  },
  {
   "cell_type": "markdown",
   "metadata": {},
   "source": [
    "## Run the following (Windows) "
   ]
  },
  {
   "cell_type": "code",
   "execution_count": 87,
   "metadata": {},
   "outputs": [
    {
     "name": "stdout",
     "output_type": "stream",
     "text": [
      "hw_dataB.csv not found\r\n"
     ]
    }
   ],
   "source": [
    "!type hw_dataB.csv"
   ]
  },
  {
   "cell_type": "code",
   "execution_count": null,
   "metadata": {},
   "outputs": [],
   "source": []
  }
 ],
 "metadata": {
  "kernelspec": {
   "display_name": "Python 3 (ipykernel)",
   "language": "python",
   "name": "python3"
  },
  "language_info": {
   "codemirror_mode": {
    "name": "ipython",
    "version": 3
   },
   "file_extension": ".py",
   "mimetype": "text/x-python",
   "name": "python",
   "nbconvert_exporter": "python",
   "pygments_lexer": "ipython3",
   "version": "3.10.9"
  }
 },
 "nbformat": 4,
 "nbformat_minor": 1
}
